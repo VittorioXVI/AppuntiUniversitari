{
  "cells": [
    {
      "cell_type": "markdown",
      "metadata": {
        "id": "KEuvdt3CG9iK"
      },
      "source": [
        "# Module 1: Introduction to Exploratory Analysis "
      ]
    },
    {
      "cell_type": "markdown",
      "metadata": {
        "id": "jIrH-ao6G9iM"
      },
      "source": [
        "What we'll be doing in this notebook:\n",
        "-----\n",
        "\n",
        " 1.  Checking variable types\n",
        " 2.  Checking for missing variables \n",
        " 3.  Observing number of observations in the dataset\n",
        " 4.  Quickly displaying Descriptive statistics"
      ]
    },
    {
      "cell_type": "markdown",
      "metadata": {
        "id": "p_oe6jW_G9iM"
      },
      "source": [
        "### Import packages"
      ]
    },
    {
      "cell_type": "code",
      "execution_count": null,
      "metadata": {
        "id": "4K4yrNL3G9iM"
      },
      "outputs": [],
      "source": [
        "import pandas as pd\n",
        "import numpy as np\n",
        "import seaborn as sns\n",
        "import matplotlib.pyplot as plt\n",
        "from datetime import datetime\n",
        "import dateutil.parser\n",
        "\n",
        "# The command below means that the output of multiple commands in a cell will be output at once\n",
        "from IPython.core.interactiveshell import InteractiveShell\n",
        "InteractiveShell.ast_node_interactivity = \"all\"\n",
        "\n",
        "# The command below tells jupyter to display up to 80 columns, this keeps everything visible\n",
        "pd.set_option('display.max_columns', 80)\n",
        "pd.set_option('expand_frame_repr', True)\n",
        "\n",
        "# Show figures in notebook\n",
        "%matplotlib inline"
      ]
    },
    {
      "cell_type": "markdown",
      "metadata": {
        "id": "_iv1d0F1G9iN"
      },
      "source": [
        "### Import dataset"
      ]
    },
    {
      "cell_type": "markdown",
      "metadata": {
        "id": "v9i3Fg4FG9iN"
      },
      "source": [
        "We read in our dataset"
      ]
    },
    {
      "cell_type": "code",
      "execution_count": null,
      "metadata": {
        "id": "NC6IK9GFG9iN",
        "colab": {
          "base_uri": "https://localhost:8080/"
        },
        "outputId": "eb20a523-3d46-469f-b0fe-bd8e43e59e23"
      },
      "outputs": [
        {
          "output_type": "execute_result",
          "data": {
            "text/plain": [
              "0"
            ]
          },
          "metadata": {},
          "execution_count": 2
        }
      ],
      "source": [
        "path = '../data/'\n",
        "filename = 'loans.csv'\n",
        "\n",
        "try:\n",
        "    df = pd.read_csv(path + filename)\n",
        "except FileNotFoundError:\n",
        "    # If data is not found, download it from GitHub\n",
        "    import os\n",
        "    os.system(f'git clone --single-branch --depth=1 https://github.com/DeltaAnalytics/machine_learning_for_good_data {path}')\n",
        "    df = pd.read_csv(path+filename)"
      ]
    },
    {
      "cell_type": "markdown",
      "metadata": {
        "id": "LyacsDE7G9iN"
      },
      "source": [
        "In the cell below, we take a random sample of 2 rows to get a feel for the data."
      ]
    },
    {
      "cell_type": "code",
      "execution_count": null,
      "metadata": {
        "id": "QBRT5JxcG9iO",
        "colab": {
          "base_uri": "https://localhost:8080/",
          "height": 402
        },
        "outputId": "5f3cd1d3-6b15-438b-eae4-15bef37b2028"
      },
      "outputs": [
        {
          "output_type": "execute_result",
          "data": {
            "text/plain": [
              "      id_number  loan_amount  lender_count       status           funded_date  \\\n",
              "3423    1569302         5100            25  fundraising                   NaN   \n",
              "499     1145755         3775            79       funded  2016-09-14T17:21:16Z   \n",
              "\n",
              "      funded_amount  repayment_term location_country_code       sector  \\\n",
              "3423            650               6                    RW     Services   \n",
              "499            3775               7                    BI  Agriculture   \n",
              "\n",
              "                                            description  \\\n",
              "3423  Greetings from Rwanda! This is Umurinzi Cb, a ...   \n",
              "499   Daphrose is part of the Twubake Il Group and l...   \n",
              "\n",
              "                                                    use  \n",
              "3423  to buy more clothes to be tailored to sell at ...  \n",
              "499   to increase her capital and to buy three cows ...  "
            ],
            "text/html": [
              "\n",
              "  <div id=\"df-9c16582f-31ab-4dd6-9a19-3b295c0b9db9\">\n",
              "    <div class=\"colab-df-container\">\n",
              "      <div>\n",
              "<style scoped>\n",
              "    .dataframe tbody tr th:only-of-type {\n",
              "        vertical-align: middle;\n",
              "    }\n",
              "\n",
              "    .dataframe tbody tr th {\n",
              "        vertical-align: top;\n",
              "    }\n",
              "\n",
              "    .dataframe thead th {\n",
              "        text-align: right;\n",
              "    }\n",
              "</style>\n",
              "<table border=\"1\" class=\"dataframe\">\n",
              "  <thead>\n",
              "    <tr style=\"text-align: right;\">\n",
              "      <th></th>\n",
              "      <th>id_number</th>\n",
              "      <th>loan_amount</th>\n",
              "      <th>lender_count</th>\n",
              "      <th>status</th>\n",
              "      <th>funded_date</th>\n",
              "      <th>funded_amount</th>\n",
              "      <th>repayment_term</th>\n",
              "      <th>location_country_code</th>\n",
              "      <th>sector</th>\n",
              "      <th>description</th>\n",
              "      <th>use</th>\n",
              "    </tr>\n",
              "  </thead>\n",
              "  <tbody>\n",
              "    <tr>\n",
              "      <th>3423</th>\n",
              "      <td>1569302</td>\n",
              "      <td>5100</td>\n",
              "      <td>25</td>\n",
              "      <td>fundraising</td>\n",
              "      <td>NaN</td>\n",
              "      <td>650</td>\n",
              "      <td>6</td>\n",
              "      <td>RW</td>\n",
              "      <td>Services</td>\n",
              "      <td>Greetings from Rwanda! This is Umurinzi Cb, a ...</td>\n",
              "      <td>to buy more clothes to be tailored to sell at ...</td>\n",
              "    </tr>\n",
              "    <tr>\n",
              "      <th>499</th>\n",
              "      <td>1145755</td>\n",
              "      <td>3775</td>\n",
              "      <td>79</td>\n",
              "      <td>funded</td>\n",
              "      <td>2016-09-14T17:21:16Z</td>\n",
              "      <td>3775</td>\n",
              "      <td>7</td>\n",
              "      <td>BI</td>\n",
              "      <td>Agriculture</td>\n",
              "      <td>Daphrose is part of the Twubake Il Group and l...</td>\n",
              "      <td>to increase her capital and to buy three cows ...</td>\n",
              "    </tr>\n",
              "  </tbody>\n",
              "</table>\n",
              "</div>\n",
              "      <button class=\"colab-df-convert\" onclick=\"convertToInteractive('df-9c16582f-31ab-4dd6-9a19-3b295c0b9db9')\"\n",
              "              title=\"Convert this dataframe to an interactive table.\"\n",
              "              style=\"display:none;\">\n",
              "        \n",
              "  <svg xmlns=\"http://www.w3.org/2000/svg\" height=\"24px\"viewBox=\"0 0 24 24\"\n",
              "       width=\"24px\">\n",
              "    <path d=\"M0 0h24v24H0V0z\" fill=\"none\"/>\n",
              "    <path d=\"M18.56 5.44l.94 2.06.94-2.06 2.06-.94-2.06-.94-.94-2.06-.94 2.06-2.06.94zm-11 1L8.5 8.5l.94-2.06 2.06-.94-2.06-.94L8.5 2.5l-.94 2.06-2.06.94zm10 10l.94 2.06.94-2.06 2.06-.94-2.06-.94-.94-2.06-.94 2.06-2.06.94z\"/><path d=\"M17.41 7.96l-1.37-1.37c-.4-.4-.92-.59-1.43-.59-.52 0-1.04.2-1.43.59L10.3 9.45l-7.72 7.72c-.78.78-.78 2.05 0 2.83L4 21.41c.39.39.9.59 1.41.59.51 0 1.02-.2 1.41-.59l7.78-7.78 2.81-2.81c.8-.78.8-2.07 0-2.86zM5.41 20L4 18.59l7.72-7.72 1.47 1.35L5.41 20z\"/>\n",
              "  </svg>\n",
              "      </button>\n",
              "      \n",
              "  <style>\n",
              "    .colab-df-container {\n",
              "      display:flex;\n",
              "      flex-wrap:wrap;\n",
              "      gap: 12px;\n",
              "    }\n",
              "\n",
              "    .colab-df-convert {\n",
              "      background-color: #E8F0FE;\n",
              "      border: none;\n",
              "      border-radius: 50%;\n",
              "      cursor: pointer;\n",
              "      display: none;\n",
              "      fill: #1967D2;\n",
              "      height: 32px;\n",
              "      padding: 0 0 0 0;\n",
              "      width: 32px;\n",
              "    }\n",
              "\n",
              "    .colab-df-convert:hover {\n",
              "      background-color: #E2EBFA;\n",
              "      box-shadow: 0px 1px 2px rgba(60, 64, 67, 0.3), 0px 1px 3px 1px rgba(60, 64, 67, 0.15);\n",
              "      fill: #174EA6;\n",
              "    }\n",
              "\n",
              "    [theme=dark] .colab-df-convert {\n",
              "      background-color: #3B4455;\n",
              "      fill: #D2E3FC;\n",
              "    }\n",
              "\n",
              "    [theme=dark] .colab-df-convert:hover {\n",
              "      background-color: #434B5C;\n",
              "      box-shadow: 0px 1px 3px 1px rgba(0, 0, 0, 0.15);\n",
              "      filter: drop-shadow(0px 1px 2px rgba(0, 0, 0, 0.3));\n",
              "      fill: #FFFFFF;\n",
              "    }\n",
              "  </style>\n",
              "\n",
              "      <script>\n",
              "        const buttonEl =\n",
              "          document.querySelector('#df-9c16582f-31ab-4dd6-9a19-3b295c0b9db9 button.colab-df-convert');\n",
              "        buttonEl.style.display =\n",
              "          google.colab.kernel.accessAllowed ? 'block' : 'none';\n",
              "\n",
              "        async function convertToInteractive(key) {\n",
              "          const element = document.querySelector('#df-9c16582f-31ab-4dd6-9a19-3b295c0b9db9');\n",
              "          const dataTable =\n",
              "            await google.colab.kernel.invokeFunction('convertToInteractive',\n",
              "                                                     [key], {});\n",
              "          if (!dataTable) return;\n",
              "\n",
              "          const docLinkHtml = 'Like what you see? Visit the ' +\n",
              "            '<a target=\"_blank\" href=https://colab.research.google.com/notebooks/data_table.ipynb>data table notebook</a>'\n",
              "            + ' to learn more about interactive tables.';\n",
              "          element.innerHTML = '';\n",
              "          dataTable['output_type'] = 'display_data';\n",
              "          await google.colab.output.renderOutput(dataTable, element);\n",
              "          const docLink = document.createElement('div');\n",
              "          docLink.innerHTML = docLinkHtml;\n",
              "          element.appendChild(docLink);\n",
              "        }\n",
              "      </script>\n",
              "    </div>\n",
              "  </div>\n",
              "  "
            ]
          },
          "metadata": {},
          "execution_count": 3
        }
      ],
      "source": [
        "df.sample(n=2)"
      ]
    },
    {
      "cell_type": "code",
      "execution_count": null,
      "metadata": {
        "colab": {
          "base_uri": "https://localhost:8080/"
        },
        "id": "8iYaDqUfG9iP",
        "outputId": "202c114a-1141-4c0c-c746-8556825a3b6d"
      },
      "outputs": [
        {
          "output_type": "execute_result",
          "data": {
            "text/plain": [
              "['id_number',\n",
              " 'loan_amount',\n",
              " 'lender_count',\n",
              " 'status',\n",
              " 'funded_date',\n",
              " 'funded_amount',\n",
              " 'repayment_term',\n",
              " 'location_country_code',\n",
              " 'sector',\n",
              " 'description',\n",
              " 'use']"
            ]
          },
          "metadata": {},
          "execution_count": 4
        }
      ],
      "source": [
        "# Here are all of the columns\n",
        "df.columns.tolist()"
      ]
    },
    {
      "cell_type": "code",
      "execution_count": null,
      "metadata": {
        "colab": {
          "base_uri": "https://localhost:8080/"
        },
        "id": "JuNWRNNjG9iP",
        "outputId": "35fdf953-2cf2-4eb7-8e12-e11b1ed9927a"
      },
      "outputs": [
        {
          "output_type": "execute_result",
          "data": {
            "text/plain": [
              "dtype('int64')"
            ]
          },
          "metadata": {},
          "execution_count": 5
        }
      ],
      "source": [
        "# Find the dtype, aka datatype, for a column\n",
        "df['id_number'].dtype"
      ]
    },
    {
      "cell_type": "code",
      "execution_count": null,
      "metadata": {
        "colab": {
          "base_uri": "https://localhost:8080/"
        },
        "id": "DUUPW0djG9iQ",
        "outputId": "3a89acd6-82de-44e6-a297-701c03d57c43"
      },
      "outputs": [
        {
          "output_type": "execute_result",
          "data": {
            "text/plain": [
              "pandas.core.series.Series"
            ]
          },
          "metadata": {},
          "execution_count": 8
        }
      ],
      "source": [
        "# Try this - Pick a couple of columns and check their type on your own\n",
        "type(df['description'])"
      ]
    },
    {
      "cell_type": "markdown",
      "metadata": {
        "id": "zx_WS3TSG9iQ"
      },
      "source": [
        "### 2) Do I have missing values?\n",
        "\n",
        "<a id='missing_check'></a>"
      ]
    },
    {
      "cell_type": "markdown",
      "metadata": {
        "id": "jfK_Px2jG9iQ"
      },
      "source": [
        "If we have missing data, is the missing data at random or not? If data is missing at random, the data distribution is still representative of the population. You can probably ignore the missing values as an inconvenience. However, if the data is systematically missing, the analysis you do may be biased. You should carefully consider the best way to clean the data, it may involve dropping some data."
      ]
    },
    {
      "cell_type": "markdown",
      "metadata": {
        "id": "TL_vhPOfG9iQ"
      },
      "source": [
        "We want to see how many values are missing in certain variable columns. One way to do this is to count the number of null observations. \n",
        "\n",
        "For this, we wrote a short function to apply to the dataframe. \n",
        "\n",
        "We print out the first few observations, but you can remove the `.head()` to print out all columns. "
      ]
    },
    {
      "cell_type": "code",
      "execution_count": null,
      "metadata": {
        "colab": {
          "base_uri": "https://localhost:8080/"
        },
        "id": "lskoDW8QG9iQ",
        "outputId": "eabd1f22-4c4d-481b-ea13-57233d06960b"
      },
      "outputs": [
        {
          "output_type": "stream",
          "name": "stdout",
          "text": [
            "Missing values per column:\n",
            "funded_date              937.0\n",
            "location_country_code     17.0\n",
            "description              342.0\n",
            "use                      342.0\n",
            "dtype: float64\n"
          ]
        }
      ],
      "source": [
        "#Create a new function:\n",
        "def num_missing(x):\n",
        "    return sum(x.isnull())\n",
        "\n",
        "#Applying per column:\n",
        "print(\"Missing values per column:\")\n",
        "## Check how many are missing by column, and then check which ones have any missing values\n",
        "print(df.apply(num_missing, axis=0).where(lambda x : x != 0).dropna().head(20)) \n",
        "#axis=0 defines that function is to be applied on each column"
      ]
    },
    {
      "cell_type": "markdown",
      "metadata": {
        "id": "SNEnuuvfG9iR"
      },
      "source": [
        "### 3) Sanity Checks\n",
        "<a id='obs_check'></a>"
      ]
    },
    {
      "cell_type": "markdown",
      "metadata": {
        "id": "2Ow5k3vIG9iS"
      },
      "source": [
        "**Does the dataset match what you expected to find?**\n",
        "- Is the range of values what you would expect? For example, are all loan_amounts above 0.\n",
        "- Do you have the number of rows you would expect?\n",
        "- Is your data for the date range you would expect? For example, is there a strange year in the data like 1880.\n",
        "- Are there unexpected spikes when you plot the data over time?\n",
        "\n",
        "\n",
        "In the command below we find out the number of loans and number of columns by using the function shape. You can also use `len(df.index)` to find the number of rows."
      ]
    },
    {
      "cell_type": "code",
      "execution_count": null,
      "metadata": {
        "colab": {
          "base_uri": "https://localhost:8080/"
        },
        "id": "l4pR1wKgG9iS",
        "outputId": "dda8eaef-0b07-40cb-f2bb-de80fdf1947a"
      },
      "outputs": [
        {
          "output_type": "stream",
          "name": "stdout",
          "text": [
            "There are 6019 observations and 11 features\n"
          ]
        }
      ],
      "source": [
        "print(f'There are {df.shape[0]} observations and {df.shape[1]} features')"
      ]
    },
    {
      "cell_type": "markdown",
      "metadata": {
        "id": "_y9LMRVRG9iS"
      },
      "source": [
        "Remember, each row is an observation and each column is a potential feature. \n",
        "\n",
        "Remember we need large about of data for machine learning."
      ]
    },
    {
      "cell_type": "markdown",
      "metadata": {
        "id": "rkM10JPgG9iS"
      },
      "source": [
        "### 4) Descriptive statistics of the dataset\n",
        "\n",
        "<a id='desc_stats'></a>"
      ]
    },
    {
      "cell_type": "markdown",
      "metadata": {
        "id": "glzhTpJFG9iS"
      },
      "source": [
        "The `describe` command conveniently below provides key summary statistics for each numeric column."
      ]
    },
    {
      "cell_type": "code",
      "execution_count": null,
      "metadata": {
        "colab": {
          "base_uri": "https://localhost:8080/",
          "height": 300
        },
        "id": "HmiRpJSIG9iT",
        "outputId": "201cf739-67cb-42c5-f201-ef14b3511ee3"
      },
      "outputs": [
        {
          "output_type": "execute_result",
          "data": {
            "text/plain": [
              "          id_number   loan_amount  lender_count  funded_amount  repayment_term\n",
              "count  6.019000e+03   6019.000000   6019.000000    6019.000000     6019.000000\n",
              "mean   1.359770e+06   1499.011464     35.661406    1325.070610       11.803290\n",
              "std    3.719316e+05   2512.517280     73.420256    2444.726815        9.114948\n",
              "min    1.377200e+04     50.000000      0.000000       0.000000        3.000000\n",
              "25%    1.425188e+06    300.000000      7.000000     200.000000        8.000000\n",
              "50%    1.550673e+06    625.000000     16.000000     525.000000       10.000000\n",
              "75%    1.566204e+06   1825.000000     41.000000    1525.000000       14.000000\n",
              "max    1.573593e+06  80000.000000   2665.000000   80000.000000      133.000000"
            ],
            "text/html": [
              "\n",
              "  <div id=\"df-0d3c849a-f4eb-4ab9-9f5a-653e63a8f09d\">\n",
              "    <div class=\"colab-df-container\">\n",
              "      <div>\n",
              "<style scoped>\n",
              "    .dataframe tbody tr th:only-of-type {\n",
              "        vertical-align: middle;\n",
              "    }\n",
              "\n",
              "    .dataframe tbody tr th {\n",
              "        vertical-align: top;\n",
              "    }\n",
              "\n",
              "    .dataframe thead th {\n",
              "        text-align: right;\n",
              "    }\n",
              "</style>\n",
              "<table border=\"1\" class=\"dataframe\">\n",
              "  <thead>\n",
              "    <tr style=\"text-align: right;\">\n",
              "      <th></th>\n",
              "      <th>id_number</th>\n",
              "      <th>loan_amount</th>\n",
              "      <th>lender_count</th>\n",
              "      <th>funded_amount</th>\n",
              "      <th>repayment_term</th>\n",
              "    </tr>\n",
              "  </thead>\n",
              "  <tbody>\n",
              "    <tr>\n",
              "      <th>count</th>\n",
              "      <td>6.019000e+03</td>\n",
              "      <td>6019.000000</td>\n",
              "      <td>6019.000000</td>\n",
              "      <td>6019.000000</td>\n",
              "      <td>6019.000000</td>\n",
              "    </tr>\n",
              "    <tr>\n",
              "      <th>mean</th>\n",
              "      <td>1.359770e+06</td>\n",
              "      <td>1499.011464</td>\n",
              "      <td>35.661406</td>\n",
              "      <td>1325.070610</td>\n",
              "      <td>11.803290</td>\n",
              "    </tr>\n",
              "    <tr>\n",
              "      <th>std</th>\n",
              "      <td>3.719316e+05</td>\n",
              "      <td>2512.517280</td>\n",
              "      <td>73.420256</td>\n",
              "      <td>2444.726815</td>\n",
              "      <td>9.114948</td>\n",
              "    </tr>\n",
              "    <tr>\n",
              "      <th>min</th>\n",
              "      <td>1.377200e+04</td>\n",
              "      <td>50.000000</td>\n",
              "      <td>0.000000</td>\n",
              "      <td>0.000000</td>\n",
              "      <td>3.000000</td>\n",
              "    </tr>\n",
              "    <tr>\n",
              "      <th>25%</th>\n",
              "      <td>1.425188e+06</td>\n",
              "      <td>300.000000</td>\n",
              "      <td>7.000000</td>\n",
              "      <td>200.000000</td>\n",
              "      <td>8.000000</td>\n",
              "    </tr>\n",
              "    <tr>\n",
              "      <th>50%</th>\n",
              "      <td>1.550673e+06</td>\n",
              "      <td>625.000000</td>\n",
              "      <td>16.000000</td>\n",
              "      <td>525.000000</td>\n",
              "      <td>10.000000</td>\n",
              "    </tr>\n",
              "    <tr>\n",
              "      <th>75%</th>\n",
              "      <td>1.566204e+06</td>\n",
              "      <td>1825.000000</td>\n",
              "      <td>41.000000</td>\n",
              "      <td>1525.000000</td>\n",
              "      <td>14.000000</td>\n",
              "    </tr>\n",
              "    <tr>\n",
              "      <th>max</th>\n",
              "      <td>1.573593e+06</td>\n",
              "      <td>80000.000000</td>\n",
              "      <td>2665.000000</td>\n",
              "      <td>80000.000000</td>\n",
              "      <td>133.000000</td>\n",
              "    </tr>\n",
              "  </tbody>\n",
              "</table>\n",
              "</div>\n",
              "      <button class=\"colab-df-convert\" onclick=\"convertToInteractive('df-0d3c849a-f4eb-4ab9-9f5a-653e63a8f09d')\"\n",
              "              title=\"Convert this dataframe to an interactive table.\"\n",
              "              style=\"display:none;\">\n",
              "        \n",
              "  <svg xmlns=\"http://www.w3.org/2000/svg\" height=\"24px\"viewBox=\"0 0 24 24\"\n",
              "       width=\"24px\">\n",
              "    <path d=\"M0 0h24v24H0V0z\" fill=\"none\"/>\n",
              "    <path d=\"M18.56 5.44l.94 2.06.94-2.06 2.06-.94-2.06-.94-.94-2.06-.94 2.06-2.06.94zm-11 1L8.5 8.5l.94-2.06 2.06-.94-2.06-.94L8.5 2.5l-.94 2.06-2.06.94zm10 10l.94 2.06.94-2.06 2.06-.94-2.06-.94-.94-2.06-.94 2.06-2.06.94z\"/><path d=\"M17.41 7.96l-1.37-1.37c-.4-.4-.92-.59-1.43-.59-.52 0-1.04.2-1.43.59L10.3 9.45l-7.72 7.72c-.78.78-.78 2.05 0 2.83L4 21.41c.39.39.9.59 1.41.59.51 0 1.02-.2 1.41-.59l7.78-7.78 2.81-2.81c.8-.78.8-2.07 0-2.86zM5.41 20L4 18.59l7.72-7.72 1.47 1.35L5.41 20z\"/>\n",
              "  </svg>\n",
              "      </button>\n",
              "      \n",
              "  <style>\n",
              "    .colab-df-container {\n",
              "      display:flex;\n",
              "      flex-wrap:wrap;\n",
              "      gap: 12px;\n",
              "    }\n",
              "\n",
              "    .colab-df-convert {\n",
              "      background-color: #E8F0FE;\n",
              "      border: none;\n",
              "      border-radius: 50%;\n",
              "      cursor: pointer;\n",
              "      display: none;\n",
              "      fill: #1967D2;\n",
              "      height: 32px;\n",
              "      padding: 0 0 0 0;\n",
              "      width: 32px;\n",
              "    }\n",
              "\n",
              "    .colab-df-convert:hover {\n",
              "      background-color: #E2EBFA;\n",
              "      box-shadow: 0px 1px 2px rgba(60, 64, 67, 0.3), 0px 1px 3px 1px rgba(60, 64, 67, 0.15);\n",
              "      fill: #174EA6;\n",
              "    }\n",
              "\n",
              "    [theme=dark] .colab-df-convert {\n",
              "      background-color: #3B4455;\n",
              "      fill: #D2E3FC;\n",
              "    }\n",
              "\n",
              "    [theme=dark] .colab-df-convert:hover {\n",
              "      background-color: #434B5C;\n",
              "      box-shadow: 0px 1px 3px 1px rgba(0, 0, 0, 0.15);\n",
              "      filter: drop-shadow(0px 1px 2px rgba(0, 0, 0, 0.3));\n",
              "      fill: #FFFFFF;\n",
              "    }\n",
              "  </style>\n",
              "\n",
              "      <script>\n",
              "        const buttonEl =\n",
              "          document.querySelector('#df-0d3c849a-f4eb-4ab9-9f5a-653e63a8f09d button.colab-df-convert');\n",
              "        buttonEl.style.display =\n",
              "          google.colab.kernel.accessAllowed ? 'block' : 'none';\n",
              "\n",
              "        async function convertToInteractive(key) {\n",
              "          const element = document.querySelector('#df-0d3c849a-f4eb-4ab9-9f5a-653e63a8f09d');\n",
              "          const dataTable =\n",
              "            await google.colab.kernel.invokeFunction('convertToInteractive',\n",
              "                                                     [key], {});\n",
              "          if (!dataTable) return;\n",
              "\n",
              "          const docLinkHtml = 'Like what you see? Visit the ' +\n",
              "            '<a target=\"_blank\" href=https://colab.research.google.com/notebooks/data_table.ipynb>data table notebook</a>'\n",
              "            + ' to learn more about interactive tables.';\n",
              "          element.innerHTML = '';\n",
              "          dataTable['output_type'] = 'display_data';\n",
              "          await google.colab.output.renderOutput(dataTable, element);\n",
              "          const docLink = document.createElement('div');\n",
              "          docLink.innerHTML = docLinkHtml;\n",
              "          element.appendChild(docLink);\n",
              "        }\n",
              "      </script>\n",
              "    </div>\n",
              "  </div>\n",
              "  "
            ]
          },
          "metadata": {},
          "execution_count": 11
        }
      ],
      "source": [
        "df.describe()"
      ]
    },
    {
      "cell_type": "markdown",
      "metadata": {
        "id": "9czLLKTJG9iT"
      },
      "source": [
        "In order to get the same summary statistics for categorical columns (string) we need to do a little data wrangling. \n",
        "\n",
        "The first line of code filters for all columns that are a data type object. As we know from before this means they are considered to be a string. The final row of code provides summary statistics for these character fields."
      ]
    },
    {
      "cell_type": "code",
      "execution_count": null,
      "metadata": {
        "colab": {
          "base_uri": "https://localhost:8080/",
          "height": 175
        },
        "id": "_eczWhLdG9iT",
        "outputId": "f5200994-a2ca-4deb-f6b4-4118caf08c87"
      },
      "outputs": [
        {
          "output_type": "execute_result",
          "data": {
            "text/plain": [
              "        status           funded_date location_country_code sector  \\\n",
              "count     6019                  5082                  6002   6019   \n",
              "unique       3                  4453                    30     14   \n",
              "top     funded  2018-07-22T15:54:41Z                    TZ   Food   \n",
              "freq      5082                     9                   400   1738   \n",
              "\n",
              "                                              description                  use  \n",
              "count                                                5677                 5677  \n",
              "unique                                               5277                 4325  \n",
              "top     Zaina is 19-year-old entrepreneur who lives wi...  to pay for a stove.  \n",
              "freq                                                    2                   80  "
            ],
            "text/html": [
              "\n",
              "  <div id=\"df-96555cc2-1043-4252-8617-bab68cc46287\">\n",
              "    <div class=\"colab-df-container\">\n",
              "      <div>\n",
              "<style scoped>\n",
              "    .dataframe tbody tr th:only-of-type {\n",
              "        vertical-align: middle;\n",
              "    }\n",
              "\n",
              "    .dataframe tbody tr th {\n",
              "        vertical-align: top;\n",
              "    }\n",
              "\n",
              "    .dataframe thead th {\n",
              "        text-align: right;\n",
              "    }\n",
              "</style>\n",
              "<table border=\"1\" class=\"dataframe\">\n",
              "  <thead>\n",
              "    <tr style=\"text-align: right;\">\n",
              "      <th></th>\n",
              "      <th>status</th>\n",
              "      <th>funded_date</th>\n",
              "      <th>location_country_code</th>\n",
              "      <th>sector</th>\n",
              "      <th>description</th>\n",
              "      <th>use</th>\n",
              "    </tr>\n",
              "  </thead>\n",
              "  <tbody>\n",
              "    <tr>\n",
              "      <th>count</th>\n",
              "      <td>6019</td>\n",
              "      <td>5082</td>\n",
              "      <td>6002</td>\n",
              "      <td>6019</td>\n",
              "      <td>5677</td>\n",
              "      <td>5677</td>\n",
              "    </tr>\n",
              "    <tr>\n",
              "      <th>unique</th>\n",
              "      <td>3</td>\n",
              "      <td>4453</td>\n",
              "      <td>30</td>\n",
              "      <td>14</td>\n",
              "      <td>5277</td>\n",
              "      <td>4325</td>\n",
              "    </tr>\n",
              "    <tr>\n",
              "      <th>top</th>\n",
              "      <td>funded</td>\n",
              "      <td>2018-07-22T15:54:41Z</td>\n",
              "      <td>TZ</td>\n",
              "      <td>Food</td>\n",
              "      <td>Zaina is 19-year-old entrepreneur who lives wi...</td>\n",
              "      <td>to pay for a stove.</td>\n",
              "    </tr>\n",
              "    <tr>\n",
              "      <th>freq</th>\n",
              "      <td>5082</td>\n",
              "      <td>9</td>\n",
              "      <td>400</td>\n",
              "      <td>1738</td>\n",
              "      <td>2</td>\n",
              "      <td>80</td>\n",
              "    </tr>\n",
              "  </tbody>\n",
              "</table>\n",
              "</div>\n",
              "      <button class=\"colab-df-convert\" onclick=\"convertToInteractive('df-96555cc2-1043-4252-8617-bab68cc46287')\"\n",
              "              title=\"Convert this dataframe to an interactive table.\"\n",
              "              style=\"display:none;\">\n",
              "        \n",
              "  <svg xmlns=\"http://www.w3.org/2000/svg\" height=\"24px\"viewBox=\"0 0 24 24\"\n",
              "       width=\"24px\">\n",
              "    <path d=\"M0 0h24v24H0V0z\" fill=\"none\"/>\n",
              "    <path d=\"M18.56 5.44l.94 2.06.94-2.06 2.06-.94-2.06-.94-.94-2.06-.94 2.06-2.06.94zm-11 1L8.5 8.5l.94-2.06 2.06-.94-2.06-.94L8.5 2.5l-.94 2.06-2.06.94zm10 10l.94 2.06.94-2.06 2.06-.94-2.06-.94-.94-2.06-.94 2.06-2.06.94z\"/><path d=\"M17.41 7.96l-1.37-1.37c-.4-.4-.92-.59-1.43-.59-.52 0-1.04.2-1.43.59L10.3 9.45l-7.72 7.72c-.78.78-.78 2.05 0 2.83L4 21.41c.39.39.9.59 1.41.59.51 0 1.02-.2 1.41-.59l7.78-7.78 2.81-2.81c.8-.78.8-2.07 0-2.86zM5.41 20L4 18.59l7.72-7.72 1.47 1.35L5.41 20z\"/>\n",
              "  </svg>\n",
              "      </button>\n",
              "      \n",
              "  <style>\n",
              "    .colab-df-container {\n",
              "      display:flex;\n",
              "      flex-wrap:wrap;\n",
              "      gap: 12px;\n",
              "    }\n",
              "\n",
              "    .colab-df-convert {\n",
              "      background-color: #E8F0FE;\n",
              "      border: none;\n",
              "      border-radius: 50%;\n",
              "      cursor: pointer;\n",
              "      display: none;\n",
              "      fill: #1967D2;\n",
              "      height: 32px;\n",
              "      padding: 0 0 0 0;\n",
              "      width: 32px;\n",
              "    }\n",
              "\n",
              "    .colab-df-convert:hover {\n",
              "      background-color: #E2EBFA;\n",
              "      box-shadow: 0px 1px 2px rgba(60, 64, 67, 0.3), 0px 1px 3px 1px rgba(60, 64, 67, 0.15);\n",
              "      fill: #174EA6;\n",
              "    }\n",
              "\n",
              "    [theme=dark] .colab-df-convert {\n",
              "      background-color: #3B4455;\n",
              "      fill: #D2E3FC;\n",
              "    }\n",
              "\n",
              "    [theme=dark] .colab-df-convert:hover {\n",
              "      background-color: #434B5C;\n",
              "      box-shadow: 0px 1px 3px 1px rgba(0, 0, 0, 0.15);\n",
              "      filter: drop-shadow(0px 1px 2px rgba(0, 0, 0, 0.3));\n",
              "      fill: #FFFFFF;\n",
              "    }\n",
              "  </style>\n",
              "\n",
              "      <script>\n",
              "        const buttonEl =\n",
              "          document.querySelector('#df-96555cc2-1043-4252-8617-bab68cc46287 button.colab-df-convert');\n",
              "        buttonEl.style.display =\n",
              "          google.colab.kernel.accessAllowed ? 'block' : 'none';\n",
              "\n",
              "        async function convertToInteractive(key) {\n",
              "          const element = document.querySelector('#df-96555cc2-1043-4252-8617-bab68cc46287');\n",
              "          const dataTable =\n",
              "            await google.colab.kernel.invokeFunction('convertToInteractive',\n",
              "                                                     [key], {});\n",
              "          if (!dataTable) return;\n",
              "\n",
              "          const docLinkHtml = 'Like what you see? Visit the ' +\n",
              "            '<a target=\"_blank\" href=https://colab.research.google.com/notebooks/data_table.ipynb>data table notebook</a>'\n",
              "            + ' to learn more about interactive tables.';\n",
              "          element.innerHTML = '';\n",
              "          dataTable['output_type'] = 'display_data';\n",
              "          await google.colab.output.renderOutput(dataTable, element);\n",
              "          const docLink = document.createElement('div');\n",
              "          docLink.innerHTML = docLinkHtml;\n",
              "          element.appendChild(docLink);\n",
              "        }\n",
              "      </script>\n",
              "    </div>\n",
              "  </div>\n",
              "  "
            ]
          },
          "metadata": {},
          "execution_count": 12
        }
      ],
      "source": [
        "categorical = df.dtypes[df.dtypes == \"object\"].index\n",
        "df[categorical].describe()"
      ]
    },
    {
      "cell_type": "markdown",
      "metadata": {
        "id": "1tSPyjxNG9iT"
      },
      "source": [
        "In the table above, there are 4 really useful fields: \n",
        "\n",
        "1) **count** - total number of fields populated (Not empty). \n",
        "\n",
        "2) **unique** - tells us how many different unique ways this field is populated. \n",
        "\n",
        "3) **top** - tells us the most popular data point. For example, the top activity in this dataset is Farming which tells us most loans are in Farming.\n",
        "\n",
        "4) **freq** - tells us that how frequent the most popular category is in our dataset."
      ]
    }
  ],
  "metadata": {
    "kernelspec": {
      "display_name": "Python (Delta Analytics Env)",
      "language": "python",
      "name": "delta_analytics_env"
    },
    "language_info": {
      "codemirror_mode": {
        "name": "ipython",
        "version": 3
      },
      "file_extension": ".py",
      "mimetype": "text/x-python",
      "name": "python",
      "nbconvert_exporter": "python",
      "pygments_lexer": "ipython3",
      "version": "3.6.12"
    },
    "colab": {
      "name": "1_4_loading_and_understanding_data.ipynb",
      "provenance": [],
      "collapsed_sections": []
    }
  },
  "nbformat": 4,
  "nbformat_minor": 0
}