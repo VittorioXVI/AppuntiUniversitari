{
  "cells": [
    {
      "cell_type": "markdown",
      "metadata": {
        "id": "j78dcYBVLBqN"
      },
      "source": [
        "# Module 1: Introduction to Exploratory Data Analysis "
      ]
    },
    {
      "cell_type": "markdown",
      "metadata": {
        "id": "dvEHNjIhLBqS"
      },
      "source": [
        "In this notebook we dive into some plotting methods commonly used for Exploratory Data Analysis (EDA). \n",
        "\n",
        "Our goals for EDA are to open-mindedly explore the data, and see what insights we may find. \n",
        "\n",
        "The purpose of the EDA approach is to:\n",
        "- maximize insight into a data set\n",
        "- uncover underlying structure\n",
        "- extract important variables\n",
        "- detect outliers and anomalies\n",
        "- test underlying assumptions\n",
        "- develop parsimonious models\n",
        "- determine optimal factor settings"
      ]
    },
    {
      "cell_type": "markdown",
      "metadata": {
        "id": "yNAs7GS4LBqS"
      },
      "source": [
        "In this notebook we'll investigate these plotting techniques:\n",
        "\n",
        "1. Scatter Plot\n",
        "1. Scatter Matrix\n",
        "1. Histogram\n",
        "1. Bar Plot\n",
        "1. Box Plot\n",
        "1. Time Series"
      ]
    },
    {
      "cell_type": "markdown",
      "metadata": {
        "id": "vG9B6eIcLBqT"
      },
      "source": [
        "### Setup\n",
        "<a id='setup'></a>"
      ]
    },
    {
      "cell_type": "code",
      "execution_count": 1,
      "metadata": {
        "id": "rWjQ6LpGLBqT"
      },
      "outputs": [],
      "source": [
        "from datetime import datetime\n",
        "import dateutil.parser\n",
        "import re\n",
        "\n",
        "import pandas as pd\n",
        "import numpy as np\n",
        "import seaborn as sns\n",
        "import matplotlib.pyplot as plt\n",
        "\n",
        "# The command below means that the output of multiple commands in a cell will be output at once\n",
        "from IPython.core.interactiveshell import InteractiveShell\n",
        "InteractiveShell.ast_node_interactivity = \"all\"\n",
        "\n",
        "# The command below tells jupyter to display up to 80 columns, this keeps everything visible\n",
        "pd.set_option('display.max_columns', 80)\n",
        "pd.set_option('expand_frame_repr', True)\n",
        "\n",
        "sns.set_palette(\"hls\")\n",
        "%matplotlib inline"
      ]
    },
    {
      "cell_type": "code",
      "execution_count": 2,
      "metadata": {
        "id": "kxlPBMCNLBqV",
        "colab": {
          "base_uri": "https://localhost:8080/"
        },
        "outputId": "898484e2-14da-4feb-a268-fff66a801b0c"
      },
      "outputs": [
        {
          "output_type": "execute_result",
          "data": {
            "text/plain": [
              "0"
            ]
          },
          "metadata": {},
          "execution_count": 2
        }
      ],
      "source": [
        "path = '../data/'\n",
        "filename = 'loans.csv'\n",
        "\n",
        "try:\n",
        "    df = pd.read_csv(path + filename)\n",
        "except FileNotFoundError:\n",
        "    # If data is not found, download it from GitHub\n",
        "    import os\n",
        "    os.system(f'git clone --single-branch --depth=1 https://github.com/DeltaAnalytics/machine_learning_for_good_data {path}')\n",
        "    df = pd.read_csv(path+filename)"
      ]
    },
    {
      "cell_type": "code",
      "execution_count": 3,
      "metadata": {
        "colab": {
          "base_uri": "https://localhost:8080/",
          "height": 337
        },
        "id": "hwLpsHzzLBqV",
        "outputId": "4a8b0b0a-2d2e-4817-9132-6271e5e07e07"
      },
      "outputs": [
        {
          "output_type": "execute_result",
          "data": {
            "text/plain": [
              "   id_number  loan_amount  lender_count  status           funded_date  \\\n",
              "0     736066         4825            60  funded  2014-08-03T17:51:50Z   \n",
              "1     743090          975            34  funded  2014-08-18T09:10:54Z   \n",
              "2     743120          950            25  funded  2014-08-09T17:46:35Z   \n",
              "3     743121          825            28  funded  2014-08-24T17:00:38Z   \n",
              "4     743124          725            21  funded  2014-08-25T03:24:54Z   \n",
              "\n",
              "   funded_amount  repayment_term location_country_code    sector description  \\\n",
              "0           4825               8                    BJ    Retail         NaN   \n",
              "1            975              12                    BJ      Food         NaN   \n",
              "2            950              14                    BJ  Services         NaN   \n",
              "3            825              14                    BJ    Retail         NaN   \n",
              "4            725              13                    BJ    Retail         NaN   \n",
              "\n",
              "   use  \n",
              "0  NaN  \n",
              "1  NaN  \n",
              "2  NaN  \n",
              "3  NaN  \n",
              "4  NaN  "
            ],
            "text/html": [
              "\n",
              "  <div id=\"df-af509507-ca3f-4563-b51d-5ff64948a869\">\n",
              "    <div class=\"colab-df-container\">\n",
              "      <div>\n",
              "<style scoped>\n",
              "    .dataframe tbody tr th:only-of-type {\n",
              "        vertical-align: middle;\n",
              "    }\n",
              "\n",
              "    .dataframe tbody tr th {\n",
              "        vertical-align: top;\n",
              "    }\n",
              "\n",
              "    .dataframe thead th {\n",
              "        text-align: right;\n",
              "    }\n",
              "</style>\n",
              "<table border=\"1\" class=\"dataframe\">\n",
              "  <thead>\n",
              "    <tr style=\"text-align: right;\">\n",
              "      <th></th>\n",
              "      <th>id_number</th>\n",
              "      <th>loan_amount</th>\n",
              "      <th>lender_count</th>\n",
              "      <th>status</th>\n",
              "      <th>funded_date</th>\n",
              "      <th>funded_amount</th>\n",
              "      <th>repayment_term</th>\n",
              "      <th>location_country_code</th>\n",
              "      <th>sector</th>\n",
              "      <th>description</th>\n",
              "      <th>use</th>\n",
              "    </tr>\n",
              "  </thead>\n",
              "  <tbody>\n",
              "    <tr>\n",
              "      <th>0</th>\n",
              "      <td>736066</td>\n",
              "      <td>4825</td>\n",
              "      <td>60</td>\n",
              "      <td>funded</td>\n",
              "      <td>2014-08-03T17:51:50Z</td>\n",
              "      <td>4825</td>\n",
              "      <td>8</td>\n",
              "      <td>BJ</td>\n",
              "      <td>Retail</td>\n",
              "      <td>NaN</td>\n",
              "      <td>NaN</td>\n",
              "    </tr>\n",
              "    <tr>\n",
              "      <th>1</th>\n",
              "      <td>743090</td>\n",
              "      <td>975</td>\n",
              "      <td>34</td>\n",
              "      <td>funded</td>\n",
              "      <td>2014-08-18T09:10:54Z</td>\n",
              "      <td>975</td>\n",
              "      <td>12</td>\n",
              "      <td>BJ</td>\n",
              "      <td>Food</td>\n",
              "      <td>NaN</td>\n",
              "      <td>NaN</td>\n",
              "    </tr>\n",
              "    <tr>\n",
              "      <th>2</th>\n",
              "      <td>743120</td>\n",
              "      <td>950</td>\n",
              "      <td>25</td>\n",
              "      <td>funded</td>\n",
              "      <td>2014-08-09T17:46:35Z</td>\n",
              "      <td>950</td>\n",
              "      <td>14</td>\n",
              "      <td>BJ</td>\n",
              "      <td>Services</td>\n",
              "      <td>NaN</td>\n",
              "      <td>NaN</td>\n",
              "    </tr>\n",
              "    <tr>\n",
              "      <th>3</th>\n",
              "      <td>743121</td>\n",
              "      <td>825</td>\n",
              "      <td>28</td>\n",
              "      <td>funded</td>\n",
              "      <td>2014-08-24T17:00:38Z</td>\n",
              "      <td>825</td>\n",
              "      <td>14</td>\n",
              "      <td>BJ</td>\n",
              "      <td>Retail</td>\n",
              "      <td>NaN</td>\n",
              "      <td>NaN</td>\n",
              "    </tr>\n",
              "    <tr>\n",
              "      <th>4</th>\n",
              "      <td>743124</td>\n",
              "      <td>725</td>\n",
              "      <td>21</td>\n",
              "      <td>funded</td>\n",
              "      <td>2014-08-25T03:24:54Z</td>\n",
              "      <td>725</td>\n",
              "      <td>13</td>\n",
              "      <td>BJ</td>\n",
              "      <td>Retail</td>\n",
              "      <td>NaN</td>\n",
              "      <td>NaN</td>\n",
              "    </tr>\n",
              "  </tbody>\n",
              "</table>\n",
              "</div>\n",
              "      <button class=\"colab-df-convert\" onclick=\"convertToInteractive('df-af509507-ca3f-4563-b51d-5ff64948a869')\"\n",
              "              title=\"Convert this dataframe to an interactive table.\"\n",
              "              style=\"display:none;\">\n",
              "        \n",
              "  <svg xmlns=\"http://www.w3.org/2000/svg\" height=\"24px\"viewBox=\"0 0 24 24\"\n",
              "       width=\"24px\">\n",
              "    <path d=\"M0 0h24v24H0V0z\" fill=\"none\"/>\n",
              "    <path d=\"M18.56 5.44l.94 2.06.94-2.06 2.06-.94-2.06-.94-.94-2.06-.94 2.06-2.06.94zm-11 1L8.5 8.5l.94-2.06 2.06-.94-2.06-.94L8.5 2.5l-.94 2.06-2.06.94zm10 10l.94 2.06.94-2.06 2.06-.94-2.06-.94-.94-2.06-.94 2.06-2.06.94z\"/><path d=\"M17.41 7.96l-1.37-1.37c-.4-.4-.92-.59-1.43-.59-.52 0-1.04.2-1.43.59L10.3 9.45l-7.72 7.72c-.78.78-.78 2.05 0 2.83L4 21.41c.39.39.9.59 1.41.59.51 0 1.02-.2 1.41-.59l7.78-7.78 2.81-2.81c.8-.78.8-2.07 0-2.86zM5.41 20L4 18.59l7.72-7.72 1.47 1.35L5.41 20z\"/>\n",
              "  </svg>\n",
              "      </button>\n",
              "      \n",
              "  <style>\n",
              "    .colab-df-container {\n",
              "      display:flex;\n",
              "      flex-wrap:wrap;\n",
              "      gap: 12px;\n",
              "    }\n",
              "\n",
              "    .colab-df-convert {\n",
              "      background-color: #E8F0FE;\n",
              "      border: none;\n",
              "      border-radius: 50%;\n",
              "      cursor: pointer;\n",
              "      display: none;\n",
              "      fill: #1967D2;\n",
              "      height: 32px;\n",
              "      padding: 0 0 0 0;\n",
              "      width: 32px;\n",
              "    }\n",
              "\n",
              "    .colab-df-convert:hover {\n",
              "      background-color: #E2EBFA;\n",
              "      box-shadow: 0px 1px 2px rgba(60, 64, 67, 0.3), 0px 1px 3px 1px rgba(60, 64, 67, 0.15);\n",
              "      fill: #174EA6;\n",
              "    }\n",
              "\n",
              "    [theme=dark] .colab-df-convert {\n",
              "      background-color: #3B4455;\n",
              "      fill: #D2E3FC;\n",
              "    }\n",
              "\n",
              "    [theme=dark] .colab-df-convert:hover {\n",
              "      background-color: #434B5C;\n",
              "      box-shadow: 0px 1px 3px 1px rgba(0, 0, 0, 0.15);\n",
              "      filter: drop-shadow(0px 1px 2px rgba(0, 0, 0, 0.3));\n",
              "      fill: #FFFFFF;\n",
              "    }\n",
              "  </style>\n",
              "\n",
              "      <script>\n",
              "        const buttonEl =\n",
              "          document.querySelector('#df-af509507-ca3f-4563-b51d-5ff64948a869 button.colab-df-convert');\n",
              "        buttonEl.style.display =\n",
              "          google.colab.kernel.accessAllowed ? 'block' : 'none';\n",
              "\n",
              "        async function convertToInteractive(key) {\n",
              "          const element = document.querySelector('#df-af509507-ca3f-4563-b51d-5ff64948a869');\n",
              "          const dataTable =\n",
              "            await google.colab.kernel.invokeFunction('convertToInteractive',\n",
              "                                                     [key], {});\n",
              "          if (!dataTable) return;\n",
              "\n",
              "          const docLinkHtml = 'Like what you see? Visit the ' +\n",
              "            '<a target=\"_blank\" href=https://colab.research.google.com/notebooks/data_table.ipynb>data table notebook</a>'\n",
              "            + ' to learn more about interactive tables.';\n",
              "          element.innerHTML = '';\n",
              "          dataTable['output_type'] = 'display_data';\n",
              "          await google.colab.output.renderOutput(dataTable, element);\n",
              "          const docLink = document.createElement('div');\n",
              "          docLink.innerHTML = docLinkHtml;\n",
              "          element.appendChild(docLink);\n",
              "        }\n",
              "      </script>\n",
              "    </div>\n",
              "  </div>\n",
              "  "
            ]
          },
          "metadata": {},
          "execution_count": 3
        }
      ],
      "source": [
        "df.head()"
      ]
    },
    {
      "cell_type": "markdown",
      "metadata": {
        "id": "Mh1a33_BLBqW"
      },
      "source": [
        "Before diving into our exploratory data analysis, it is worth reiterating that this whole process is about understanding the distribution of data and relationships between different features.\n",
        "\n",
        "When we move on to use machine learning algorithms, we will be asking a question and trying to answer it using the statistical relationships between different features in the data. The EDA analysis will help us shape this question and have a clear idea about how to approach building the algorithm!\n",
        "\n",
        "With that in mind, let's look at several visualization methods to examine the data and any relationships between features…"
      ]
    },
    {
      "cell_type": "markdown",
      "metadata": {
        "id": "-SD9dr6vLBqX"
      },
      "source": [
        "### 1. Scatter plot"
      ]
    },
    {
      "cell_type": "markdown",
      "metadata": {
        "id": "2ndgArq0LBqX"
      },
      "source": [
        "To start, the scatter plot! This is a very popular and powerful way to visualize the relationship between two continuous features. Essentially this plot shows us how feature `Y` changes when feature `X` is changed. If there is a clear pattern formed in the scatter plot, we say that x and y are **correlated**. \n",
        "\n",
        "There are several outcomes we see on a scatter plot:\n",
        "- Positive Linear = When X increases, Y increases and the data points follow an approximate straight line\n",
        "- Negative Linear = When X increase, Y decreases and the data points follow an approximate straight line\n",
        "- Non-Linear = When X increases, there is a consistent change in Y but this is not linear. It could be quadratic or exponential for example. \n",
        "- No correlation = When X increases, there is no clear pattern to how Y changes, The data points form a random distribution.\n",
        "\n",
        "Let's try this out on our data and choose two continuous variables to plot. First lets extract all the continuous variables from our dataset."
      ]
    },
    {
      "cell_type": "code",
      "execution_count": 4,
      "metadata": {
        "id": "Fd46L4VULBqX",
        "outputId": "a6deecfc-75ff-4bec-8581-e7745c82536e",
        "colab": {
          "base_uri": "https://localhost:8080/"
        }
      },
      "outputs": [
        {
          "output_type": "stream",
          "name": "stdout",
          "text": [
            "id_number\n",
            "loan_amount\n",
            "lender_count\n",
            "funded_amount\n",
            "repayment_term\n"
          ]
        }
      ],
      "source": [
        "numeric_vars = df.select_dtypes(include=[np.number]).columns.tolist()\n",
        "for variable in numeric_vars:\n",
        "    print(variable)"
      ]
    },
    {
      "cell_type": "markdown",
      "metadata": {
        "id": "7ZFNzBfGLBqY"
      },
      "source": [
        "To start, let's look if there is a relationship between `lender_count` and `loan_amount`... intuition suggests that bigger loans much have more lenders. If this is true, we'll see this in the scatter plot!"
      ]
    },
    {
      "cell_type": "code",
      "execution_count": 7,
      "metadata": {
        "id": "0NvmFW3NLBqY",
        "outputId": "a4b47c4c-df8b-44ca-bc40-5006bf07c6dd",
        "colab": {
          "base_uri": "https://localhost:8080/",
          "height": 280
        }
      },
      "outputs": [
        {
          "output_type": "display_data",
          "data": {
            "text/plain": [
              "<Figure size 432x288 with 1 Axes>"
            ],
            "image/png": "[encoded data removed]"
          },
          "metadata": {
            "needs_background": "light"
          }
        }
      ],
      "source": [
        "ax = sns.regplot(x='lender_count', y='loan_amount', data=df)"
      ]
    },
    {
      "cell_type": "markdown",
      "metadata": {
        "id": "UVztR3osLBqY"
      },
      "source": [
        "Where does the data follow the line?\n",
        "\n",
        "Where does the data __not__ follow the line?\n",
        "\n",
        "What are possible reasons that data does __not__ follow the line?"
      ]
    },
    {
      "cell_type": "markdown",
      "metadata": {
        "id": "mTvwCasqLBqY"
      },
      "source": [
        "-----\n",
        "Let's explore another relationship.\n",
        "------\n",
        "\n",
        "How about the repayment term and the loan amount? \n",
        "\n",
        "What kind of relationship would you expect between the variables `repayment_term` and the `loan amount`?"
      ]
    },
    {
      "cell_type": "code",
      "execution_count": 8,
      "metadata": {
        "id": "y3FvY_ddLBqZ",
        "outputId": "0bdf62ab-2014-41c0-fe01-8fe8e554d6a2",
        "colab": {
          "base_uri": "https://localhost:8080/",
          "height": 280
        }
      },
      "outputs": [
        {
          "output_type": "display_data",
          "data": {
            "text/plain": [
              "<Figure size 432x288 with 1 Axes>"
            ],
            "image/png": "[encoded data removed]"
          },
          "metadata": {
            "needs_background": "light"
          }
        }
      ],
      "source": [
        "ax = sns.regplot(x='repayment_term', \n",
        "                 y='loan_amount', \n",
        "                 data=df)"
      ]
    },
    {
      "cell_type": "markdown",
      "metadata": {
        "id": "Dnv6d6y0LBqZ"
      },
      "source": [
        "Where does the data follow the line?\n",
        "\n",
        "Where does the data __not__ follow the line?\n",
        "\n",
        "What are possible reasons that data does __not__ follow the line?"
      ]
    },
    {
      "cell_type": "markdown",
      "metadata": {
        "id": "IAGqWTCfLBqZ"
      },
      "source": [
        "### 2. Scatter Matrix\n",
        "\n",
        "When we have lots of continuous variables, we could go through them one by one to see the relationship or we could use a scatterplot matrix! This creates a scatter plot between every combination of variables in a list. \n",
        "\n",
        "Another interesting quality of the scatter matrix is that the diagonals give a histogram of the variable in question. "
      ]
    },
    {
      "cell_type": "code",
      "execution_count": 9,
      "metadata": {
        "id": "YWOGwoxwLBqZ"
      },
      "outputs": [],
      "source": [
        "# Let's choose only a couple of columns to examine:\n",
        "columns = ['loan_amount', 'funded_amount',  'status']\n",
        "num_df = df[columns]"
      ]
    },
    {
      "cell_type": "code",
      "execution_count": null,
      "metadata": {
        "id": "Xt5hVeTHLBqa",
        "outputId": "3109163b-650a-4fcd-96f0-12eaffeb6a7b"
      },
      "outputs": [
        {
          "data": {
            "text/html": [
              "<div>\n",
              "<style scoped>\n",
              "    .dataframe tbody tr th:only-of-type {\n",
              "        vertical-align: middle;\n",
              "    }\n",
              "\n",
              "    .dataframe tbody tr th {\n",
              "        vertical-align: top;\n",
              "    }\n",
              "\n",
              "    .dataframe thead th {\n",
              "        text-align: right;\n",
              "    }\n",
              "</style>\n",
              "<table border=\"1\" class=\"dataframe\">\n",
              "  <thead>\n",
              "    <tr style=\"text-align: right;\">\n",
              "      <th></th>\n",
              "      <th>loan_amount</th>\n",
              "      <th>funded_amount</th>\n",
              "      <th>status</th>\n",
              "    </tr>\n",
              "  </thead>\n",
              "  <tbody>\n",
              "    <tr>\n",
              "      <th>0</th>\n",
              "      <td>4825</td>\n",
              "      <td>4825</td>\n",
              "      <td>funded</td>\n",
              "    </tr>\n",
              "    <tr>\n",
              "      <th>1</th>\n",
              "      <td>975</td>\n",
              "      <td>975</td>\n",
              "      <td>funded</td>\n",
              "    </tr>\n",
              "    <tr>\n",
              "      <th>2</th>\n",
              "      <td>950</td>\n",
              "      <td>950</td>\n",
              "      <td>funded</td>\n",
              "    </tr>\n",
              "    <tr>\n",
              "      <th>3</th>\n",
              "      <td>825</td>\n",
              "      <td>825</td>\n",
              "      <td>funded</td>\n",
              "    </tr>\n",
              "    <tr>\n",
              "      <th>4</th>\n",
              "      <td>725</td>\n",
              "      <td>725</td>\n",
              "      <td>funded</td>\n",
              "    </tr>\n",
              "    <tr>\n",
              "      <th>...</th>\n",
              "      <td>...</td>\n",
              "      <td>...</td>\n",
              "      <td>...</td>\n",
              "    </tr>\n",
              "    <tr>\n",
              "      <th>6014</th>\n",
              "      <td>200</td>\n",
              "      <td>200</td>\n",
              "      <td>funded</td>\n",
              "    </tr>\n",
              "    <tr>\n",
              "      <th>6015</th>\n",
              "      <td>200</td>\n",
              "      <td>200</td>\n",
              "      <td>funded</td>\n",
              "    </tr>\n",
              "    <tr>\n",
              "      <th>6016</th>\n",
              "      <td>200</td>\n",
              "      <td>200</td>\n",
              "      <td>funded</td>\n",
              "    </tr>\n",
              "    <tr>\n",
              "      <th>6017</th>\n",
              "      <td>200</td>\n",
              "      <td>200</td>\n",
              "      <td>funded</td>\n",
              "    </tr>\n",
              "    <tr>\n",
              "      <th>6018</th>\n",
              "      <td>200</td>\n",
              "      <td>200</td>\n",
              "      <td>funded</td>\n",
              "    </tr>\n",
              "  </tbody>\n",
              "</table>\n",
              "<p>6019 rows × 3 columns</p>\n",
              "</div>"
            ],
            "text/plain": [
              "      loan_amount  funded_amount  status\n",
              "0            4825           4825  funded\n",
              "1             975            975  funded\n",
              "2             950            950  funded\n",
              "3             825            825  funded\n",
              "4             725            725  funded\n",
              "...           ...            ...     ...\n",
              "6014          200            200  funded\n",
              "6015          200            200  funded\n",
              "6016          200            200  funded\n",
              "6017          200            200  funded\n",
              "6018          200            200  funded\n",
              "\n",
              "[6019 rows x 3 columns]"
            ]
          },
          "execution_count": 8,
          "metadata": {},
          "output_type": "execute_result"
        }
      ],
      "source": [
        "num_df"
      ]
    },
    {
      "cell_type": "code",
      "execution_count": 10,
      "metadata": {
        "id": "Xc4DL_wSLBqa",
        "outputId": "70c1bfac-524f-4536-9871-0d316e3cb056",
        "colab": {
          "base_uri": "https://localhost:8080/",
          "height": 374
        }
      },
      "outputs": [
        {
          "output_type": "display_data",
          "data": {
            "text/plain": [
              "<Figure size 452.75x360 with 6 Axes>"
            ],
            "image/png": "[encoded data removed]"
          },
          "metadata": {
            "needs_background": "light"
          }
        }
      ],
      "source": [
        "# Remove the NaN rows so Seaborn can plot\n",
        "num_df = num_df.dropna(axis=0, how='any')\n",
        "\n",
        "# Create the scatter plot and let's color the data point by their status.\n",
        "sns.pairplot(num_df, hue='status');"
      ]
    },
    {
      "cell_type": "markdown",
      "metadata": {
        "id": "KinYkJx8LBqa"
      },
      "source": [
        "What can say about the data?\n",
        "\n",
        "<br>\n",
        "<br>"
      ]
    },
    {
      "cell_type": "markdown",
      "metadata": {
        "id": "huYFHxQHLBqa"
      },
      "source": [
        "### 4. Histogram\n",
        "\n",
        "A histogram is useful for looking at the distribution of values for a single variable and also identifying outliers. It shows us the count of data.\n",
        "\n",
        "The plot below shows the data distribution of `loan_amount` using both bars and a continuous line. \n",
        "\n",
        "Without going into too much detail about the value on the y-axis, what we can take away from this is there is a much higher occurrence of small loans (high bar/peak in the line) and that large loans are much rarer (low bars/drop in the line)."
      ]
    },
    {
      "cell_type": "code",
      "execution_count": 11,
      "metadata": {
        "id": "3WokifPGLBqa",
        "outputId": "c1343989-9cd7-4daf-f5d4-f868a7544e32",
        "colab": {
          "base_uri": "https://localhost:8080/",
          "height": 335
        }
      },
      "outputs": [
        {
          "output_type": "stream",
          "name": "stderr",
          "text": [
            "/usr/local/lib/python3.7/dist-packages/seaborn/distributions.py:2619: FutureWarning: `distplot` is a deprecated function and will be removed in a future version. Please adapt your code to use either `displot` (a figure-level function with similar flexibility) or `histplot` (an axes-level function for histograms).\n",
            "  warnings.warn(msg, FutureWarning)\n"
          ]
        },
        {
          "output_type": "display_data",
          "data": {
            "text/plain": [
              "<Figure size 432x288 with 1 Axes>"
            ],
            "image/png": "[encoded data removed]"
          },
          "metadata": {
            "needs_background": "light"
          }
        }
      ],
      "source": [
        "sns.distplot(df['loan_amount'].dropna(axis = 0));"
      ]
    },
    {
      "cell_type": "markdown",
      "metadata": {
        "id": "zREVu9pELBqb"
      },
      "source": [
        "The above plot appears to be quite [skewed](https://en.wikipedia.org/wiki/Skewness). However, maybe that's not the case. \n",
        "\n",
        "Rather, we are seeing this because of outlier values.\n",
        "\n",
        "So, let's just look at those `loan_amount` under 5K..."
      ]
    },
    {
      "cell_type": "code",
      "execution_count": 12,
      "metadata": {
        "id": "K_eGN5BuLBqb",
        "outputId": "14ade48f-061d-4d53-ac77-cb6aae6f856f",
        "colab": {
          "base_uri": "https://localhost:8080/",
          "height": 335
        }
      },
      "outputs": [
        {
          "output_type": "stream",
          "name": "stderr",
          "text": [
            "/usr/local/lib/python3.7/dist-packages/seaborn/distributions.py:2619: FutureWarning: `distplot` is a deprecated function and will be removed in a future version. Please adapt your code to use either `displot` (a figure-level function with similar flexibility) or `histplot` (an axes-level function for histograms).\n",
            "  warnings.warn(msg, FutureWarning)\n"
          ]
        },
        {
          "output_type": "display_data",
          "data": {
            "text/plain": [
              "<Figure size 432x288 with 1 Axes>"
            ],
            "image/png": "[encoded data removed]"
          },
          "metadata": {
            "needs_background": "light"
          }
        }
      ],
      "source": [
        "# Observe loan_amount under 5K\n",
        "small_loans_df = df[(df['loan_amount'] < 5000)]\n",
        "sns.distplot(small_loans_df['loan_amount']);"
      ]
    },
    {
      "cell_type": "markdown",
      "metadata": {
        "id": "6c_E4xFPLBqb"
      },
      "source": [
        "Well now, looking at the loans less than 5000 we see a much clearer distribution, although it is still left-hand [skewed](https://en.wikipedia.org/wiki/Skewness)."
      ]
    },
    {
      "cell_type": "markdown",
      "metadata": {
        "id": "RHLra1QKLBqb"
      },
      "source": [
        "### 5. Bar Plot\n",
        "\n",
        "Bar plots are useful for understanding how categorical groups are different with respect to a continuous variable.\n"
      ]
    },
    {
      "cell_type": "code",
      "execution_count": 14,
      "metadata": {
        "id": "U-qhDLo3LBqb",
        "outputId": "0efb736a-6940-4d7d-93b3-714b82c2ca5b",
        "colab": {
          "base_uri": "https://localhost:8080/",
          "height": 344
        }
      },
      "outputs": [
        {
          "output_type": "display_data",
          "data": {
            "text/plain": [
              "<Figure size 432x288 with 1 Axes>"
            ],
            "image/png": "[encoded data removed]"
          },
          "metadata": {
            "needs_background": "light"
          }
        }
      ],
      "source": [
        "p = sns.barplot(x='sector', y = 'loan_amount', data=df, estimator=np.mean);\n",
        "p.set(title='Average loan amount by sector')\n",
        "p.set_xticklabels(p.get_xticklabels(), rotation=-45);"
      ]
    },
    {
      "cell_type": "markdown",
      "metadata": {
        "id": "V0Xa-4bLLBqb"
      },
      "source": [
        "Which sector is the largest? Why?"
      ]
    },
    {
      "cell_type": "code",
      "execution_count": 15,
      "metadata": {
        "id": "HdtwqcQtLBqc",
        "outputId": "86a9f1c0-69db-4808-c292-ba904270f2ab",
        "colab": {
          "base_uri": "https://localhost:8080/",
          "height": 344
        }
      },
      "outputs": [
        {
          "output_type": "display_data",
          "data": {
            "text/plain": [
              "<Figure size 432x288 with 1 Axes>"
            ],
            "image/png": "[encoded data removed]"
          },
          "metadata": {
            "needs_background": "light"
          }
        }
      ],
      "source": [
        "p = sns.barplot(x='sector', y = 'loan_amount', data=df, estimator=np.sum);\n",
        "p.set(title='Total loan amount by sector')\n",
        "p.set_xticklabels(p.get_xticklabels(), rotation=-45);"
      ]
    },
    {
      "cell_type": "markdown",
      "metadata": {
        "id": "ITX2ldkcLBqc"
      },
      "source": [
        "Which sector is the largest? Why?\n",
        "\n",
        "<br>\n",
        "<br>"
      ]
    },
    {
      "cell_type": "markdown",
      "metadata": {
        "id": "GVMpF-VoLBqc"
      },
      "source": [
        "### 6. Box Plots\n",
        "\n",
        "A box plot describes the distribution of data based on five important summary numbers: the minimum, first quartile, median, third quartile, and maximum. In the simplest box plot the central rectangle spans the first quartile to the third quartile (the interquartile range or IQR). A segment inside the rectangle shows the median and \"whiskers\" above and below the box show the locations of the minimum and maximum. \n",
        "\n",
        "Lets use this to look at the distribution of borrowers counts by each sector for different loan status for different partners. First lets look at how many loans come from different partners."
      ]
    },
    {
      "cell_type": "code",
      "execution_count": 16,
      "metadata": {
        "id": "19_jz1jsLBqc",
        "outputId": "a6395c1e-e893-4b57-e998-f7cee07c2c92",
        "colab": {
          "base_uri": "https://localhost:8080/",
          "height": 337
        }
      },
      "outputs": [
        {
          "output_type": "execute_result",
          "data": {
            "text/plain": [
              "   id_number  loan_amount  lender_count  status           funded_date  \\\n",
              "0     736066         4825            60  funded  2014-08-03T17:51:50Z   \n",
              "3     743121          825            28  funded  2014-08-24T17:00:38Z   \n",
              "4     743124          725            21  funded  2014-08-25T03:24:54Z   \n",
              "5     743125          725            27  funded  2014-08-18T23:08:00Z   \n",
              "6     743130          725            27  funded  2014-08-19T12:14:49Z   \n",
              "\n",
              "   funded_amount  repayment_term location_country_code  sector description  \\\n",
              "0           4825               8                    BJ  Retail         NaN   \n",
              "3            825              14                    BJ  Retail         NaN   \n",
              "4            725              13                    BJ  Retail         NaN   \n",
              "5            725              13                    BJ  Retail         NaN   \n",
              "6            725              13                    BJ  Retail         NaN   \n",
              "\n",
              "   use  \n",
              "0  NaN  \n",
              "3  NaN  \n",
              "4  NaN  \n",
              "5  NaN  \n",
              "6  NaN  "
            ],
            "text/html": [
              "\n",
              "  <div id=\"df-8ddfc6f3-9747-45a0-9b96-bff616d02ebd\">\n",
              "    <div class=\"colab-df-container\">\n",
              "      <div>\n",
              "<style scoped>\n",
              "    .dataframe tbody tr th:only-of-type {\n",
              "        vertical-align: middle;\n",
              "    }\n",
              "\n",
              "    .dataframe tbody tr th {\n",
              "        vertical-align: top;\n",
              "    }\n",
              "\n",
              "    .dataframe thead th {\n",
              "        text-align: right;\n",
              "    }\n",
              "</style>\n",
              "<table border=\"1\" class=\"dataframe\">\n",
              "  <thead>\n",
              "    <tr style=\"text-align: right;\">\n",
              "      <th></th>\n",
              "      <th>id_number</th>\n",
              "      <th>loan_amount</th>\n",
              "      <th>lender_count</th>\n",
              "      <th>status</th>\n",
              "      <th>funded_date</th>\n",
              "      <th>funded_amount</th>\n",
              "      <th>repayment_term</th>\n",
              "      <th>location_country_code</th>\n",
              "      <th>sector</th>\n",
              "      <th>description</th>\n",
              "      <th>use</th>\n",
              "    </tr>\n",
              "  </thead>\n",
              "  <tbody>\n",
              "    <tr>\n",
              "      <th>0</th>\n",
              "      <td>736066</td>\n",
              "      <td>4825</td>\n",
              "      <td>60</td>\n",
              "      <td>funded</td>\n",
              "      <td>2014-08-03T17:51:50Z</td>\n",
              "      <td>4825</td>\n",
              "      <td>8</td>\n",
              "      <td>BJ</td>\n",
              "      <td>Retail</td>\n",
              "      <td>NaN</td>\n",
              "      <td>NaN</td>\n",
              "    </tr>\n",
              "    <tr>\n",
              "      <th>3</th>\n",
              "      <td>743121</td>\n",
              "      <td>825</td>\n",
              "      <td>28</td>\n",
              "      <td>funded</td>\n",
              "      <td>2014-08-24T17:00:38Z</td>\n",
              "      <td>825</td>\n",
              "      <td>14</td>\n",
              "      <td>BJ</td>\n",
              "      <td>Retail</td>\n",
              "      <td>NaN</td>\n",
              "      <td>NaN</td>\n",
              "    </tr>\n",
              "    <tr>\n",
              "      <th>4</th>\n",
              "      <td>743124</td>\n",
              "      <td>725</td>\n",
              "      <td>21</td>\n",
              "      <td>funded</td>\n",
              "      <td>2014-08-25T03:24:54Z</td>\n",
              "      <td>725</td>\n",
              "      <td>13</td>\n",
              "      <td>BJ</td>\n",
              "      <td>Retail</td>\n",
              "      <td>NaN</td>\n",
              "      <td>NaN</td>\n",
              "    </tr>\n",
              "    <tr>\n",
              "      <th>5</th>\n",
              "      <td>743125</td>\n",
              "      <td>725</td>\n",
              "      <td>27</td>\n",
              "      <td>funded</td>\n",
              "      <td>2014-08-18T23:08:00Z</td>\n",
              "      <td>725</td>\n",
              "      <td>13</td>\n",
              "      <td>BJ</td>\n",
              "      <td>Retail</td>\n",
              "      <td>NaN</td>\n",
              "      <td>NaN</td>\n",
              "    </tr>\n",
              "    <tr>\n",
              "      <th>6</th>\n",
              "      <td>743130</td>\n",
              "      <td>725</td>\n",
              "      <td>27</td>\n",
              "      <td>funded</td>\n",
              "      <td>2014-08-19T12:14:49Z</td>\n",
              "      <td>725</td>\n",
              "      <td>13</td>\n",
              "      <td>BJ</td>\n",
              "      <td>Retail</td>\n",
              "      <td>NaN</td>\n",
              "      <td>NaN</td>\n",
              "    </tr>\n",
              "  </tbody>\n",
              "</table>\n",
              "</div>\n",
              "      <button class=\"colab-df-convert\" onclick=\"convertToInteractive('df-8ddfc6f3-9747-45a0-9b96-bff616d02ebd')\"\n",
              "              title=\"Convert this dataframe to an interactive table.\"\n",
              "              style=\"display:none;\">\n",
              "        \n",
              "  <svg xmlns=\"http://www.w3.org/2000/svg\" height=\"24px\"viewBox=\"0 0 24 24\"\n",
              "       width=\"24px\">\n",
              "    <path d=\"M0 0h24v24H0V0z\" fill=\"none\"/>\n",
              "    <path d=\"M18.56 5.44l.94 2.06.94-2.06 2.06-.94-2.06-.94-.94-2.06-.94 2.06-2.06.94zm-11 1L8.5 8.5l.94-2.06 2.06-.94-2.06-.94L8.5 2.5l-.94 2.06-2.06.94zm10 10l.94 2.06.94-2.06 2.06-.94-2.06-.94-.94-2.06-.94 2.06-2.06.94z\"/><path d=\"M17.41 7.96l-1.37-1.37c-.4-.4-.92-.59-1.43-.59-.52 0-1.04.2-1.43.59L10.3 9.45l-7.72 7.72c-.78.78-.78 2.05 0 2.83L4 21.41c.39.39.9.59 1.41.59.51 0 1.02-.2 1.41-.59l7.78-7.78 2.81-2.81c.8-.78.8-2.07 0-2.86zM5.41 20L4 18.59l7.72-7.72 1.47 1.35L5.41 20z\"/>\n",
              "  </svg>\n",
              "      </button>\n",
              "      \n",
              "  <style>\n",
              "    .colab-df-container {\n",
              "      display:flex;\n",
              "      flex-wrap:wrap;\n",
              "      gap: 12px;\n",
              "    }\n",
              "\n",
              "    .colab-df-convert {\n",
              "      background-color: #E8F0FE;\n",
              "      border: none;\n",
              "      border-radius: 50%;\n",
              "      cursor: pointer;\n",
              "      display: none;\n",
              "      fill: #1967D2;\n",
              "      height: 32px;\n",
              "      padding: 0 0 0 0;\n",
              "      width: 32px;\n",
              "    }\n",
              "\n",
              "    .colab-df-convert:hover {\n",
              "      background-color: #E2EBFA;\n",
              "      box-shadow: 0px 1px 2px rgba(60, 64, 67, 0.3), 0px 1px 3px 1px rgba(60, 64, 67, 0.15);\n",
              "      fill: #174EA6;\n",
              "    }\n",
              "\n",
              "    [theme=dark] .colab-df-convert {\n",
              "      background-color: #3B4455;\n",
              "      fill: #D2E3FC;\n",
              "    }\n",
              "\n",
              "    [theme=dark] .colab-df-convert:hover {\n",
              "      background-color: #434B5C;\n",
              "      box-shadow: 0px 1px 3px 1px rgba(0, 0, 0, 0.15);\n",
              "      filter: drop-shadow(0px 1px 2px rgba(0, 0, 0, 0.3));\n",
              "      fill: #FFFFFF;\n",
              "    }\n",
              "  </style>\n",
              "\n",
              "      <script>\n",
              "        const buttonEl =\n",
              "          document.querySelector('#df-8ddfc6f3-9747-45a0-9b96-bff616d02ebd button.colab-df-convert');\n",
              "        buttonEl.style.display =\n",
              "          google.colab.kernel.accessAllowed ? 'block' : 'none';\n",
              "\n",
              "        async function convertToInteractive(key) {\n",
              "          const element = document.querySelector('#df-8ddfc6f3-9747-45a0-9b96-bff616d02ebd');\n",
              "          const dataTable =\n",
              "            await google.colab.kernel.invokeFunction('convertToInteractive',\n",
              "                                                     [key], {});\n",
              "          if (!dataTable) return;\n",
              "\n",
              "          const docLinkHtml = 'Like what you see? Visit the ' +\n",
              "            '<a target=\"_blank\" href=https://colab.research.google.com/notebooks/data_table.ipynb>data table notebook</a>'\n",
              "            + ' to learn more about interactive tables.';\n",
              "          element.innerHTML = '';\n",
              "          dataTable['output_type'] = 'display_data';\n",
              "          await google.colab.output.renderOutput(dataTable, element);\n",
              "          const docLink = document.createElement('div');\n",
              "          docLink.innerHTML = docLinkHtml;\n",
              "          element.appendChild(docLink);\n",
              "        }\n",
              "      </script>\n",
              "    </div>\n",
              "  </div>\n",
              "  "
            ]
          },
          "metadata": {},
          "execution_count": 16
        }
      ],
      "source": [
        "df_retail = df[df.sector=='Retail']\n",
        "df_retail.head()"
      ]
    },
    {
      "cell_type": "code",
      "execution_count": null,
      "metadata": {
        "id": "WhjuYiF8LBqc",
        "outputId": "51d47c19-7a3b-4406-ba3c-aaa5188cc219"
      },
      "outputs": [
        {
          "data": {
            "image/png": "[encoded data removed]",
            "text/plain": [
              "<Figure size 432x288 with 1 Axes>"
            ]
          },
          "metadata": {
            "needs_background": "light"
          },
          "output_type": "display_data"
        }
      ],
      "source": [
        "sector = 'Retail'\n",
        "df_retail = df[df.sector==sector]\n",
        "p = sns.boxplot(x='sector', \n",
        "                y='loan_amount',\n",
        "                data=df_retail);\n",
        "p.set(title = f'Loan amounts for {sector}');\n",
        "p.set_xticklabels(p.get_xticklabels(), rotation=-45);"
      ]
    },
    {
      "cell_type": "markdown",
      "metadata": {
        "id": "JA76bEw7LBqc"
      },
      "source": [
        "__Try this__ - Select other sectors and see how they look"
      ]
    },
    {
      "cell_type": "markdown",
      "metadata": {
        "id": "-HcsAyf7LBqd"
      },
      "source": [
        "Aha! It looks like we are onto something here... we can see different trends for different partners! We'll look into this further in feature_engineering section to see how we can use to create powerful features. "
      ]
    },
    {
      "cell_type": "markdown",
      "metadata": {
        "id": "ef_mur_jLBqd"
      },
      "source": [
        "### 7. Time dependancy\n",
        "Quite often it's useful to see how a variable changes over time. This means creating a plot with time on the x-axis and the variable on the y-axis.\n",
        "\n",
        "Lets have a look at how the average loan amount changes over time on a monthly basis."
      ]
    },
    {
      "cell_type": "code",
      "execution_count": null,
      "metadata": {
        "id": "vw8SLSs3LBqd",
        "outputId": "0f53e5a9-3d99-4da2-deab-ae2d3a4f35e7"
      },
      "outputs": [
        {
          "data": {
            "image/png": "[encoded data removed]",
            "text/plain": [
              "<Figure size 1080x576 with 1 Axes>"
            ]
          },
          "metadata": {
            "needs_background": "light"
          },
          "output_type": "display_data"
        }
      ],
      "source": [
        "# Convert posted date to a datetime object\n",
        "time_column = 'funded_date'\n",
        "df[time_column] = pd.to_datetime(df[time_column])\n",
        "\n",
        "# Resample the date to monthly intervals , taking the mean of loan_amount\n",
        "# This creates an array where the index is the timestamp and the value is the mean of loan amount\n",
        "time_data = df.resample('M', on=time_column)['loan_amount'].mean().fillna(0)\n",
        "fig, ax = plt.subplots(figsize=(15,8))\n",
        "ax.plot(time_data)\n",
        "plt.title('Mean loan_amount over time');"
      ]
    },
    {
      "cell_type": "markdown",
      "metadata": {
        "id": "DQN5C0IOLBqd"
      },
      "source": [
        "We can look at different timefrance by changing the parameter in resample. Lets look on a weekly basis!"
      ]
    },
    {
      "cell_type": "code",
      "execution_count": null,
      "metadata": {
        "id": "fU0mTLwlLBqd",
        "outputId": "6327c811-a633-4621-ddce-8095ead59515"
      },
      "outputs": [
        {
          "data": {
            "image/png": "[encoded data removed]",
            "text/plain": [
              "<Figure size 1080x576 with 1 Axes>"
            ]
          },
          "metadata": {
            "needs_background": "light"
          },
          "output_type": "display_data"
        }
      ],
      "source": [
        "# Resample the date to monthly intervals , taking the mean of loan_amount\n",
        "# This creates an array where the index is the timestamp and the value is the mean of loan amount\n",
        "time_data = df.resample('7D', on=time_column)['loan_amount'].mean().fillna(0)\n",
        "fig, ax = plt.subplots(figsize=(15,8))\n",
        "ax.plot(time_data)\n",
        "plt.title('Mean loan_amount over time');"
      ]
    },
    {
      "cell_type": "markdown",
      "metadata": {
        "id": "K-ZfcTAELBqd"
      },
      "source": [
        "What is next\n",
        "------\n",
        "\n",
        "Next we move on to feature engineering, where we create variables from what we've found!"
      ]
    },
    {
      "cell_type": "markdown",
      "metadata": {
        "id": "TZemuKZPLBqd"
      },
      "source": [
        "<br>\n",
        "<br> \n",
        "<br>\n",
        "\n",
        "----"
      ]
    }
  ],
  "metadata": {
    "kernelspec": {
      "display_name": "Python (Delta Analytics Env)",
      "language": "python",
      "name": "delta_analytics_env"
    },
    "language_info": {
      "codemirror_mode": {
        "name": "ipython",
        "version": 3
      },
      "file_extension": ".py",
      "mimetype": "text/x-python",
      "name": "python",
      "nbconvert_exporter": "python",
      "pygments_lexer": "ipython3",
      "version": "3.6.12"
    },
    "colab": {
      "name": "1_5_exploratory_data_analysis.ipynb",
      "provenance": [],
      "collapsed_sections": [],
      "toc_visible": true
    }
  },
  "nbformat": 4,
  "nbformat_minor": 0
}