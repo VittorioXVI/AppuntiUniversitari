{
  "cells": [
    {
      "cell_type": "markdown",
      "metadata": {
        "id": "hUdJIonEgZE2"
      },
      "source": [
        "###### Import JVM to run Java Virtual Machine for Weka"
      ]
    },
    {
      "cell_type": "code",
      "source": [
        "!pip install numpy matplotlib pygraphviz javabridge python-weka-wrapper3"
      ],
      "metadata": {
        "id": "RIIzoUmMiSSi",
        "colab": {
          "base_uri": "https://localhost:8080/"
        },
        "outputId": "51da7561-a6bc-4bb1-9e4b-8ea32f5ffc36"
      },
      "execution_count": null,
      "outputs": [
        {
          "output_type": "stream",
          "name": "stdout",
          "text": [
            "Looking in indexes: https://pypi.org/simple, https://us-python.pkg.dev/colab-wheels/public/simple/\n",
            "Requirement already satisfied: numpy in /usr/local/lib/python3.7/dist-packages (1.21.6)\n",
            "Requirement already satisfied: matplotlib in /usr/local/lib/python3.7/dist-packages (3.2.2)\n",
            "Collecting pygraphviz\n",
            "  Downloading pygraphviz-1.7.zip (118 kB)\n",
            "\u001b[K     |████████████████████████████████| 118 kB 5.1 MB/s \n",
            "\u001b[?25hCollecting javabridge\n",
            "  Downloading javabridge-1.0.19.tar.gz (1.3 MB)\n",
            "\u001b[K     |████████████████████████████████| 1.3 MB 36.4 MB/s \n",
            "\u001b[?25hCollecting python-weka-wrapper3\n",
            "  Downloading python-weka-wrapper3-0.2.9.tar.gz (12.9 MB)\n",
            "\u001b[K     |████████████████████████████████| 12.9 MB 28.3 MB/s \n",
            "\u001b[?25hRequirement already satisfied: kiwisolver>=1.0.1 in /usr/local/lib/python3.7/dist-packages (from matplotlib) (1.4.2)\n",
            "Requirement already satisfied: pyparsing!=2.0.4,!=2.1.2,!=2.1.6,>=2.0.1 in /usr/local/lib/python3.7/dist-packages (from matplotlib) (3.0.9)\n",
            "Requirement already satisfied: cycler>=0.10 in /usr/local/lib/python3.7/dist-packages (from matplotlib) (0.11.0)\n",
            "Requirement already satisfied: python-dateutil>=2.1 in /usr/local/lib/python3.7/dist-packages (from matplotlib) (2.8.2)\n",
            "Requirement already satisfied: typing-extensions in /usr/local/lib/python3.7/dist-packages (from kiwisolver>=1.0.1->matplotlib) (4.2.0)\n",
            "Requirement already satisfied: six>=1.5 in /usr/local/lib/python3.7/dist-packages (from python-dateutil>=2.1->matplotlib) (1.15.0)\n",
            "Collecting python-javabridge>=4.0.0\n",
            "  Downloading python-javabridge-4.0.3.tar.gz (1.3 MB)\n",
            "\u001b[K     |████████████████████████████████| 1.3 MB 41.5 MB/s \n",
            "\u001b[?25hRequirement already satisfied: packaging in /usr/local/lib/python3.7/dist-packages (from python-weka-wrapper3) (21.3)\n",
            "Building wheels for collected packages: pygraphviz, javabridge, python-weka-wrapper3, python-javabridge\n",
            "  Building wheel for pygraphviz (setup.py) ... \u001b[?25lerror\n",
            "\u001b[31m  ERROR: Failed building wheel for pygraphviz\u001b[0m\n",
            "\u001b[?25h  Running setup.py clean for pygraphviz\n",
            "  Building wheel for javabridge (setup.py) ... \u001b[?25l\u001b[?25hdone\n",
            "  Created wheel for javabridge: filename=javabridge-1.0.19-cp37-cp37m-linux_x86_64.whl size=1636677 sha256=283b626ce1cb009e9f35e748e84057de1f9050d022393c19aff8cb8fa3460a71\n",
            "  Stored in directory: /root/.cache/pip/wheels/8b/5e/7f/e1dd610613dcde4a4ed2974b4208ba90247a2dfc9add216c59\n",
            "  Building wheel for python-weka-wrapper3 (setup.py) ... \u001b[?25l\u001b[?25hdone\n",
            "  Created wheel for python-weka-wrapper3: filename=python_weka_wrapper3-0.2.9-py3-none-any.whl size=12978264 sha256=4c1f68176c4600a54c17ae373866754793659ab79fbbb298a2aedb03f84c9efe\n",
            "  Stored in directory: /root/.cache/pip/wheels/9d/27/d9/56c835c0e5deac3599e62971d093481f1db20a4bf72857c205\n",
            "  Building wheel for python-javabridge (setup.py) ... \u001b[?25l\u001b[?25hdone\n",
            "  Created wheel for python-javabridge: filename=python_javabridge-4.0.3-cp37-cp37m-linux_x86_64.whl size=1628185 sha256=c316369de45ca0730870f7d0a16d393b6511bbad7d12d71618aecd59283aad16\n",
            "  Stored in directory: /root/.cache/pip/wheels/63/7e/91/01b1bd8d29b4323834feb5cfec49b857fb212e6efc74ce103c\n",
            "Successfully built javabridge python-weka-wrapper3 python-javabridge\n",
            "Failed to build pygraphviz\n",
            "Installing collected packages: python-javabridge, python-weka-wrapper3, pygraphviz, javabridge\n",
            "    Running setup.py install for pygraphviz ... \u001b[?25l\u001b[?25herror\n",
            "\u001b[31mERROR: Command errored out with exit status 1: /usr/bin/python3 -u -c 'import io, os, sys, setuptools, tokenize; sys.argv[0] = '\"'\"'/tmp/pip-install-bocmdnmc/pygraphviz_c5c54a58c5544c21ad38241baeacf727/setup.py'\"'\"'; __file__='\"'\"'/tmp/pip-install-bocmdnmc/pygraphviz_c5c54a58c5544c21ad38241baeacf727/setup.py'\"'\"';f = getattr(tokenize, '\"'\"'open'\"'\"', open)(__file__) if os.path.exists(__file__) else io.StringIO('\"'\"'from setuptools import setup; setup()'\"'\"');code = f.read().replace('\"'\"'\\r\\n'\"'\"', '\"'\"'\\n'\"'\"');f.close();exec(compile(code, __file__, '\"'\"'exec'\"'\"'))' install --record /tmp/pip-record-898pfwu8/install-record.txt --single-version-externally-managed --compile --install-headers /usr/local/include/python3.7/pygraphviz Check the logs for full command output.\u001b[0m\n"
          ]
        }
      ]
    },
    {
      "cell_type": "code",
      "execution_count": null,
      "metadata": {
        "id": "JBntRBZIgZE6"
      },
      "outputs": [],
      "source": [
        "import weka.core.jvm as jvm"
      ]
    },
    {
      "cell_type": "markdown",
      "metadata": {
        "id": "w5vMCWlMgZE7"
      },
      "source": [
        "###### Import Converter to load .arff files"
      ]
    },
    {
      "cell_type": "code",
      "execution_count": null,
      "metadata": {
        "id": "8z8Sp1okgZE8"
      },
      "outputs": [],
      "source": [
        "import weka.core.converters as conv"
      ]
    },
    {
      "cell_type": "markdown",
      "metadata": {
        "id": "5CJd4MrpgZE9"
      },
      "source": [
        "###### Import Evaluation and Classifier to use evaluation methods and different classifiers of Weka"
      ]
    },
    {
      "cell_type": "code",
      "execution_count": null,
      "metadata": {
        "id": "ySQF_kiegZE9"
      },
      "outputs": [],
      "source": [
        "from weka.classifiers import Evaluation, Classifier"
      ]
    },
    {
      "cell_type": "markdown",
      "metadata": {
        "id": "Hljrc1oFgZE-"
      },
      "source": [
        "###### Import Random to seed the  cross-validation methods of Weka"
      ]
    },
    {
      "cell_type": "code",
      "execution_count": null,
      "metadata": {
        "id": "CokhZ-HcgZE_"
      },
      "outputs": [],
      "source": [
        "from weka.core.classes import Random"
      ]
    },
    {
      "cell_type": "markdown",
      "metadata": {
        "id": "vdGplbVWgZE_"
      },
      "source": [
        "###### Import os to use Operating System's Environment Variable "
      ]
    },
    {
      "cell_type": "code",
      "execution_count": null,
      "metadata": {
        "id": "SAirMVdVgZFA"
      },
      "outputs": [],
      "source": [
        "import os"
      ]
    },
    {
      "cell_type": "markdown",
      "metadata": {
        "id": "LV-iEIcLgZFB"
      },
      "source": [
        "###### Starting Java Virtual Machine"
      ]
    },
    {
      "cell_type": "code",
      "execution_count": null,
      "metadata": {
        "id": "BLS4M_H6gZFB",
        "colab": {
          "base_uri": "https://localhost:8080/"
        },
        "outputId": "5194a5ea-d438-4157-a47f-73d5087007a4"
      },
      "outputs": [
        {
          "output_type": "stream",
          "name": "stderr",
          "text": [
            "DEBUG:weka.core.jvm:Adding bundled jars\n",
            "DEBUG:weka.core.jvm:Classpath=['/usr/local/lib/python3.7/dist-packages/javabridge/jars/rhino-1.7R4.jar', '/usr/local/lib/python3.7/dist-packages/javabridge/jars/runnablequeue.jar', '/usr/local/lib/python3.7/dist-packages/javabridge/jars/cpython.jar', '/usr/local/lib/python3.7/dist-packages/weka/lib/weka.jar', '/usr/local/lib/python3.7/dist-packages/weka/lib/python-weka-wrapper.jar']\n",
            "DEBUG:weka.core.jvm:MaxHeapSize=default\n",
            "DEBUG:weka.core.jvm:Package support enabled\n"
          ]
        }
      ],
      "source": [
        "jvm.start(packages=True)"
      ]
    },
    {
      "cell_type": "markdown",
      "metadata": {
        "id": "7U-TXypngZFC"
      },
      "source": [
        "###### Loading anneal.arff file using Weka's load_any_file method"
      ]
    },
    {
      "cell_type": "code",
      "execution_count": null,
      "metadata": {
        "id": "c3H4AxUdgZFC",
        "colab": {
          "base_uri": "https://localhost:8080/"
        },
        "outputId": "9c618e8c-0010-4d06-a5ba-fc36ca0a4b3c"
      },
      "outputs": [
        {
          "output_type": "execute_result",
          "data": {
            "text/plain": [
              "weka.core.dataset.Instances"
            ]
          },
          "metadata": {},
          "execution_count": 9
        }
      ],
      "source": [
        "data = conv.load_any_file(\"/content/sample_data/anneal.arff\")\n",
        "type(data)"
      ]
    },
    {
      "cell_type": "markdown",
      "source": [
        "from weka.core.dataset.Instances to pandas.DataFrame"
      ],
      "metadata": {
        "id": "MIBn5jNEo7L0"
      }
    },
    {
      "cell_type": "code",
      "source": [
        "import numpy as np\n",
        "import pandas as pd\n",
        "from scipy.io.arff import loadarff \n",
        "\n",
        "df_data = pd.DataFrame(data)\n",
        "df_data.describe()"
      ],
      "metadata": {
        "colab": {
          "base_uri": "https://localhost:8080/",
          "height": 300
        },
        "id": "ij91-1tYmNdW",
        "outputId": "1269f936-09ef-438f-9c07-7c4dcb668706"
      },
      "execution_count": null,
      "outputs": [
        {
          "output_type": "execute_result",
          "data": {
            "text/plain": [
              "               3           4           8           32           33  \\\n",
              "count  898.000000  898.000000  898.000000  898.000000   898.000000   \n",
              "mean     3.634744   11.776169   30.668151    1.198549   780.653341   \n",
              "std     13.716845   24.750528  114.956243    0.871208   405.345688   \n",
              "min      0.000000    0.000000    0.000000    0.240000     0.000000   \n",
              "25%      0.000000    0.000000    0.000000    0.601000   609.900000   \n",
              "50%      0.000000    0.000000    0.000000    0.800000   610.000000   \n",
              "75%      0.000000    0.000000    0.000000    1.600000  1250.000000   \n",
              "max     70.000000   85.000000  700.000000    4.000000  1525.000000   \n",
              "\n",
              "                34  \n",
              "count   898.000000  \n",
              "mean   1263.094655  \n",
              "std    1871.399107  \n",
              "min       0.000000  \n",
              "25%       0.000000  \n",
              "50%     611.000000  \n",
              "75%     762.000000  \n",
              "max    4880.000000  "
            ],
            "text/html": [
              "\n",
              "  <div id=\"df-282422a4-2cbd-4ccc-82cd-0b0e771cba41\">\n",
              "    <div class=\"colab-df-container\">\n",
              "      <div>\n",
              "<style scoped>\n",
              "    .dataframe tbody tr th:only-of-type {\n",
              "        vertical-align: middle;\n",
              "    }\n",
              "\n",
              "    .dataframe tbody tr th {\n",
              "        vertical-align: top;\n",
              "    }\n",
              "\n",
              "    .dataframe thead th {\n",
              "        text-align: right;\n",
              "    }\n",
              "</style>\n",
              "<table border=\"1\" class=\"dataframe\">\n",
              "  <thead>\n",
              "    <tr style=\"text-align: right;\">\n",
              "      <th></th>\n",
              "      <th>3</th>\n",
              "      <th>4</th>\n",
              "      <th>8</th>\n",
              "      <th>32</th>\n",
              "      <th>33</th>\n",
              "      <th>34</th>\n",
              "    </tr>\n",
              "  </thead>\n",
              "  <tbody>\n",
              "    <tr>\n",
              "      <th>count</th>\n",
              "      <td>898.000000</td>\n",
              "      <td>898.000000</td>\n",
              "      <td>898.000000</td>\n",
              "      <td>898.000000</td>\n",
              "      <td>898.000000</td>\n",
              "      <td>898.000000</td>\n",
              "    </tr>\n",
              "    <tr>\n",
              "      <th>mean</th>\n",
              "      <td>3.634744</td>\n",
              "      <td>11.776169</td>\n",
              "      <td>30.668151</td>\n",
              "      <td>1.198549</td>\n",
              "      <td>780.653341</td>\n",
              "      <td>1263.094655</td>\n",
              "    </tr>\n",
              "    <tr>\n",
              "      <th>std</th>\n",
              "      <td>13.716845</td>\n",
              "      <td>24.750528</td>\n",
              "      <td>114.956243</td>\n",
              "      <td>0.871208</td>\n",
              "      <td>405.345688</td>\n",
              "      <td>1871.399107</td>\n",
              "    </tr>\n",
              "    <tr>\n",
              "      <th>min</th>\n",
              "      <td>0.000000</td>\n",
              "      <td>0.000000</td>\n",
              "      <td>0.000000</td>\n",
              "      <td>0.240000</td>\n",
              "      <td>0.000000</td>\n",
              "      <td>0.000000</td>\n",
              "    </tr>\n",
              "    <tr>\n",
              "      <th>25%</th>\n",
              "      <td>0.000000</td>\n",
              "      <td>0.000000</td>\n",
              "      <td>0.000000</td>\n",
              "      <td>0.601000</td>\n",
              "      <td>609.900000</td>\n",
              "      <td>0.000000</td>\n",
              "    </tr>\n",
              "    <tr>\n",
              "      <th>50%</th>\n",
              "      <td>0.000000</td>\n",
              "      <td>0.000000</td>\n",
              "      <td>0.000000</td>\n",
              "      <td>0.800000</td>\n",
              "      <td>610.000000</td>\n",
              "      <td>611.000000</td>\n",
              "    </tr>\n",
              "    <tr>\n",
              "      <th>75%</th>\n",
              "      <td>0.000000</td>\n",
              "      <td>0.000000</td>\n",
              "      <td>0.000000</td>\n",
              "      <td>1.600000</td>\n",
              "      <td>1250.000000</td>\n",
              "      <td>762.000000</td>\n",
              "    </tr>\n",
              "    <tr>\n",
              "      <th>max</th>\n",
              "      <td>70.000000</td>\n",
              "      <td>85.000000</td>\n",
              "      <td>700.000000</td>\n",
              "      <td>4.000000</td>\n",
              "      <td>1525.000000</td>\n",
              "      <td>4880.000000</td>\n",
              "    </tr>\n",
              "  </tbody>\n",
              "</table>\n",
              "</div>\n",
              "      <button class=\"colab-df-convert\" onclick=\"convertToInteractive('df-282422a4-2cbd-4ccc-82cd-0b0e771cba41')\"\n",
              "              title=\"Convert this dataframe to an interactive table.\"\n",
              "              style=\"display:none;\">\n",
              "        \n",
              "  <svg xmlns=\"http://www.w3.org/2000/svg\" height=\"24px\"viewBox=\"0 0 24 24\"\n",
              "       width=\"24px\">\n",
              "    <path d=\"M0 0h24v24H0V0z\" fill=\"none\"/>\n",
              "    <path d=\"M18.56 5.44l.94 2.06.94-2.06 2.06-.94-2.06-.94-.94-2.06-.94 2.06-2.06.94zm-11 1L8.5 8.5l.94-2.06 2.06-.94-2.06-.94L8.5 2.5l-.94 2.06-2.06.94zm10 10l.94 2.06.94-2.06 2.06-.94-2.06-.94-.94-2.06-.94 2.06-2.06.94z\"/><path d=\"M17.41 7.96l-1.37-1.37c-.4-.4-.92-.59-1.43-.59-.52 0-1.04.2-1.43.59L10.3 9.45l-7.72 7.72c-.78.78-.78 2.05 0 2.83L4 21.41c.39.39.9.59 1.41.59.51 0 1.02-.2 1.41-.59l7.78-7.78 2.81-2.81c.8-.78.8-2.07 0-2.86zM5.41 20L4 18.59l7.72-7.72 1.47 1.35L5.41 20z\"/>\n",
              "  </svg>\n",
              "      </button>\n",
              "      \n",
              "  <style>\n",
              "    .colab-df-container {\n",
              "      display:flex;\n",
              "      flex-wrap:wrap;\n",
              "      gap: 12px;\n",
              "    }\n",
              "\n",
              "    .colab-df-convert {\n",
              "      background-color: #E8F0FE;\n",
              "      border: none;\n",
              "      border-radius: 50%;\n",
              "      cursor: pointer;\n",
              "      display: none;\n",
              "      fill: #1967D2;\n",
              "      height: 32px;\n",
              "      padding: 0 0 0 0;\n",
              "      width: 32px;\n",
              "    }\n",
              "\n",
              "    .colab-df-convert:hover {\n",
              "      background-color: #E2EBFA;\n",
              "      box-shadow: 0px 1px 2px rgba(60, 64, 67, 0.3), 0px 1px 3px 1px rgba(60, 64, 67, 0.15);\n",
              "      fill: #174EA6;\n",
              "    }\n",
              "\n",
              "    [theme=dark] .colab-df-convert {\n",
              "      background-color: #3B4455;\n",
              "      fill: #D2E3FC;\n",
              "    }\n",
              "\n",
              "    [theme=dark] .colab-df-convert:hover {\n",
              "      background-color: #434B5C;\n",
              "      box-shadow: 0px 1px 3px 1px rgba(0, 0, 0, 0.15);\n",
              "      filter: drop-shadow(0px 1px 2px rgba(0, 0, 0, 0.3));\n",
              "      fill: #FFFFFF;\n",
              "    }\n",
              "  </style>\n",
              "\n",
              "      <script>\n",
              "        const buttonEl =\n",
              "          document.querySelector('#df-282422a4-2cbd-4ccc-82cd-0b0e771cba41 button.colab-df-convert');\n",
              "        buttonEl.style.display =\n",
              "          google.colab.kernel.accessAllowed ? 'block' : 'none';\n",
              "\n",
              "        async function convertToInteractive(key) {\n",
              "          const element = document.querySelector('#df-282422a4-2cbd-4ccc-82cd-0b0e771cba41');\n",
              "          const dataTable =\n",
              "            await google.colab.kernel.invokeFunction('convertToInteractive',\n",
              "                                                     [key], {});\n",
              "          if (!dataTable) return;\n",
              "\n",
              "          const docLinkHtml = 'Like what you see? Visit the ' +\n",
              "            '<a target=\"_blank\" href=https://colab.research.google.com/notebooks/data_table.ipynb>data table notebook</a>'\n",
              "            + ' to learn more about interactive tables.';\n",
              "          element.innerHTML = '';\n",
              "          dataTable['output_type'] = 'display_data';\n",
              "          await google.colab.output.renderOutput(dataTable, element);\n",
              "          const docLink = document.createElement('div');\n",
              "          docLink.innerHTML = docLinkHtml;\n",
              "          element.appendChild(docLink);\n",
              "        }\n",
              "      </script>\n",
              "    </div>\n",
              "  </div>\n",
              "  "
            ]
          },
          "metadata": {},
          "execution_count": 10
        }
      ]
    },
    {
      "cell_type": "markdown",
      "metadata": {
        "id": "wV_9QY99gZFC"
      },
      "source": [
        "###### Setting last attribute of data as the class label"
      ]
    },
    {
      "cell_type": "code",
      "execution_count": null,
      "metadata": {
        "id": "G_uJbcpngZFD"
      },
      "outputs": [],
      "source": [
        "data.class_is_last()"
      ]
    },
    {
      "cell_type": "markdown",
      "metadata": {
        "id": "jqTiA5I9gZFD"
      },
      "source": [
        "###### Instantiating Weka's J48 classifier"
      ]
    },
    {
      "cell_type": "code",
      "execution_count": null,
      "metadata": {
        "id": "RrIG7wCIgZFD"
      },
      "outputs": [],
      "source": [
        "cls = Classifier(classname=\"weka.classifiers.trees.J48\", options=[\"-C\",\"0.3\"])"
      ]
    },
    {
      "cell_type": "markdown",
      "metadata": {
        "id": "5_sYw_tmgZFE"
      },
      "source": [
        "###### Evaluating data"
      ]
    },
    {
      "cell_type": "code",
      "execution_count": null,
      "metadata": {
        "id": "QIe7pUb4gZFE"
      },
      "outputs": [],
      "source": [
        "evl = Evaluation(data)"
      ]
    },
    {
      "cell_type": "markdown",
      "metadata": {
        "id": "zPty7B9xgZFF"
      },
      "source": [
        "###### Cross Validating data with number of folds set to 10"
      ]
    },
    {
      "cell_type": "code",
      "execution_count": null,
      "metadata": {
        "id": "DLZG01fsgZFF"
      },
      "outputs": [],
      "source": [
        "evl.crossvalidate_model(cls, data, 10, Random(1))"
      ]
    },
    {
      "cell_type": "markdown",
      "metadata": {
        "id": "C7SaxRAFgZFF"
      },
      "source": [
        "###### Printing output of the evaluation method"
      ]
    },
    {
      "cell_type": "code",
      "execution_count": null,
      "metadata": {
        "id": "DsC7Z9gygZFG",
        "outputId": "451104d0-afde-441f-fa23-962f45865782",
        "colab": {
          "base_uri": "https://localhost:8080/"
        }
      },
      "outputs": [
        {
          "output_type": "stream",
          "name": "stdout",
          "text": [
            "J48 Summary\n",
            "Correctly Classified Instances         884               98.441  %\n",
            "Incorrectly Classified Instances        14                1.559  %\n",
            "Kappa statistic                          0.9605\n",
            "Mean absolute error                      0.0056\n",
            "Root mean squared error                  0.0669\n",
            "Relative absolute error                  4.1865 %\n",
            "Root relative squared error             25.9118 %\n",
            "Total Number of Instances              898     \n",
            "\n"
          ]
        }
      ],
      "source": [
        "print(evl.summary(\"J48 Summary\", False))"
      ]
    },
    {
      "cell_type": "markdown",
      "metadata": {
        "id": "t8Tq6Rg5gZFH"
      },
      "source": [
        "###### Printing the confusion matrix generated by evaluation method"
      ]
    },
    {
      "cell_type": "code",
      "execution_count": null,
      "metadata": {
        "id": "JNHLs5ZMgZFH",
        "outputId": "c1932a40-fedf-48cf-cdf4-3c020e2ff525",
        "colab": {
          "base_uri": "https://localhost:8080/"
        }
      },
      "outputs": [
        {
          "output_type": "stream",
          "name": "stdout",
          "text": [
            "=== Confusion Matrix ===\n",
            "\n",
            "   a   b   c   d   e   f   <-- classified as\n",
            "   5   0   3   0   0   0 |   a = 1\n",
            "   0  99   0   0   0   0 |   b = 2\n",
            "   0   2 680   0   0   2 |   c = 3\n",
            "   0   0   0   0   0   0 |   d = 4\n",
            "   0   0   0   0  67   0 |   e = 5\n",
            "   0   0   7   0   0  33 |   f = U\n",
            "\n"
          ]
        }
      ],
      "source": [
        "print(evl.matrix())"
      ]
    },
    {
      "cell_type": "markdown",
      "metadata": {
        "id": "_8ATw2AhgZFI"
      },
      "source": [
        "###### Stopping the JVM as we don't need it now"
      ]
    },
    {
      "cell_type": "code",
      "execution_count": null,
      "metadata": {
        "id": "Zicj4ARUgZFI"
      },
      "outputs": [],
      "source": [
        "jvm.stop()"
      ]
    }
  ],
  "metadata": {
    "kernelspec": {
      "display_name": "Python 3",
      "language": "python",
      "name": "python3"
    },
    "language_info": {
      "codemirror_mode": {
        "name": "ipython",
        "version": 3
      },
      "file_extension": ".py",
      "mimetype": "text/x-python",
      "name": "python",
      "nbconvert_exporter": "python",
      "pygments_lexer": "ipython3",
      "version": "3.6.5"
    },
    "colab": {
      "name": "PyWeka_wrapper.ipynb",
      "provenance": [],
      "collapsed_sections": []
    }
  },
  "nbformat": 4,
  "nbformat_minor": 0
}